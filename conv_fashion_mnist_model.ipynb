{
  "cells": [
    {
      "cell_type": "code",
      "execution_count": 8,
      "id": "795a3542",
      "metadata": {
        "id": "795a3542"
      },
      "outputs": [],
      "source": [
        "import tensorflow.keras as keras\n",
        "from keras.models import Sequential\n",
        "from keras.losses import categorical_crossentropy\n",
        "from keras.optimizers import RMSprop, Adam\n",
        "from keras.metrics import Accuracy\n",
        "from keras.layers import Conv2D, MaxPooling2D, Flatten, Dense, Dropout\n",
        "import matplotlib.pyplot as plt\n",
        "%matplotlib inline\n",
        "import numpy as np\n"
      ]
    },
    {
      "cell_type": "code",
      "source": [
        "def plot_training_history(history):\n",
        "    \"\"\"\n",
        "    Plot training history showing loss/val_loss and accuracy/val_accuracy\n",
        "\n",
        "    Parameters:\n",
        "    history: History object returned by model.fit()\n",
        "    \"\"\"\n",
        "\n",
        "    # Create figure with 2 subplots\n",
        "    fig, (ax1, ax2) = plt.subplots(1, 2, figsize=(15, 5))\n",
        "\n",
        "    # Plot 1: Loss and Validation Loss\n",
        "    ax1.plot(history.history['loss'], label='Training Loss', color='blue', linewidth=2)\n",
        "    ax1.plot(history.history['val_loss'], label='Validation Loss', color='red', linewidth=2)\n",
        "    ax1.set_title('Model Loss', fontsize=14, fontweight='bold')\n",
        "    ax1.set_xlabel('Epoch', fontsize=12)\n",
        "    ax1.set_ylabel('Loss', fontsize=12)\n",
        "    ax1.legend()\n",
        "    ax1.grid(True, alpha=0.3)\n",
        "\n",
        "    # Plot 2: Accuracy and Validation Accuracy\n",
        "    ax2.plot(history.history['accuracy'], label='Training Accuracy', color='blue', linewidth=2)\n",
        "    ax2.plot(history.history['val_accuracy'], label='Validation Accuracy', color='red', linewidth=2)\n",
        "    ax2.set_title('Model Accuracy', fontsize=14, fontweight='bold')\n",
        "    ax2.set_xlabel('Epoch', fontsize=12)\n",
        "    ax2.set_ylabel('Accuracy', fontsize=12)\n",
        "    ax2.legend()\n",
        "    ax2.grid(True, alpha=0.3)\n",
        "\n",
        "    # Adjust layout to prevent overlapping\n",
        "    plt.tight_layout()\n",
        "\n",
        "    # Show the plot\n",
        "    plt.show()\n",
        "\n",
        "    # Print final metrics\n",
        "    final_train_loss = history.history['loss'][-1]\n",
        "    final_val_loss = history.history['val_loss'][-1]\n",
        "    final_train_acc = history.history['accuracy'][-1]\n",
        "    final_val_acc = history.history['val_accuracy'][-1]\n",
        "\n",
        "    print(f\"\\nFinal Training Loss: {final_train_loss:.4f}\")\n",
        "    print(f\"Final Validation Loss: {final_val_loss:.4f}\")\n",
        "    print(f\"Final Training Accuracy: {final_train_acc:.4f}\")\n",
        "    print(f\"Final Validation Accuracy: {final_val_acc:.4f}\")"
      ],
      "metadata": {
        "id": "5APcPHzHgMdD"
      },
      "id": "5APcPHzHgMdD",
      "execution_count": 21,
      "outputs": []
    },
    {
      "cell_type": "code",
      "execution_count": 9,
      "id": "515f07de",
      "metadata": {
        "id": "515f07de",
        "outputId": "25a0f1d2-3be2-4f9d-efba-379bf7da7155",
        "colab": {
          "base_uri": "https://localhost:8080/"
        }
      },
      "outputs": [
        {
          "output_type": "stream",
          "name": "stdout",
          "text": [
            "Downloading data from https://storage.googleapis.com/tensorflow/tf-keras-datasets/train-labels-idx1-ubyte.gz\n",
            "\u001b[1m29515/29515\u001b[0m \u001b[32m━━━━━━━━━━━━━━━━━━━━\u001b[0m\u001b[37m\u001b[0m \u001b[1m0s\u001b[0m 0us/step\n",
            "Downloading data from https://storage.googleapis.com/tensorflow/tf-keras-datasets/train-images-idx3-ubyte.gz\n",
            "\u001b[1m26421880/26421880\u001b[0m \u001b[32m━━━━━━━━━━━━━━━━━━━━\u001b[0m\u001b[37m\u001b[0m \u001b[1m2s\u001b[0m 0us/step\n",
            "Downloading data from https://storage.googleapis.com/tensorflow/tf-keras-datasets/t10k-labels-idx1-ubyte.gz\n",
            "\u001b[1m5148/5148\u001b[0m \u001b[32m━━━━━━━━━━━━━━━━━━━━\u001b[0m\u001b[37m\u001b[0m \u001b[1m0s\u001b[0m 0us/step\n",
            "Downloading data from https://storage.googleapis.com/tensorflow/tf-keras-datasets/t10k-images-idx3-ubyte.gz\n",
            "\u001b[1m4422102/4422102\u001b[0m \u001b[32m━━━━━━━━━━━━━━━━━━━━\u001b[0m\u001b[37m\u001b[0m \u001b[1m1s\u001b[0m 0us/step\n"
          ]
        }
      ],
      "source": [
        "fashion_mnist = keras.datasets.fashion_mnist\n",
        "(train_images, train_labels), (test_images, test_labels) = fashion_mnist.load_data()"
      ]
    },
    {
      "cell_type": "code",
      "execution_count": 10,
      "id": "5644b899",
      "metadata": {
        "id": "5644b899",
        "outputId": "a6498616-bced-49c0-c809-1027b40b4c76",
        "colab": {
          "base_uri": "https://localhost:8080/",
          "height": 603
        }
      },
      "outputs": [
        {
          "output_type": "execute_result",
          "data": {
            "text/plain": [
              "<matplotlib.colorbar.Colorbar at 0x78811957a2a0>"
            ]
          },
          "metadata": {},
          "execution_count": 10
        },
        {
          "output_type": "display_data",
          "data": {
            "text/plain": [
              "<Figure size 1000x700 with 5 Axes>"
            ],
            "image/png": "[encoded data removed]"
          },
          "metadata": {}
        }
      ],
      "source": [
        "fig , axs = plt.subplots(2,2, figsize=(10,7))\n",
        "images = []\n",
        "for ax, data in zip(axs.flat, train_images):\n",
        "    images.append(ax.imshow(data, cmap='gray'))\n",
        "fig.colorbar(images[0], ax=axs, orientation= 'horizontal', fraction=.1)"
      ]
    },
    {
      "cell_type": "code",
      "execution_count": 11,
      "id": "bdc79f17",
      "metadata": {
        "id": "bdc79f17",
        "outputId": "ad00653b-e438-4454-a972-c88d02c74a32",
        "colab": {
          "base_uri": "https://localhost:8080/"
        }
      },
      "outputs": [
        {
          "output_type": "stream",
          "name": "stdout",
          "text": [
            "images shape: (60000, 28, 28) and label shape: (60000,)\n",
            "test images shape: (10000, 28, 28) and test label shape: (10000,)\n"
          ]
        }
      ],
      "source": [
        "print(f\"images shape: {train_images.shape} and label shape: {train_labels.shape}\")\n",
        "print(f\"test images shape: {test_images.shape} and test label shape: {test_labels.shape}\")"
      ]
    },
    {
      "cell_type": "code",
      "execution_count": 12,
      "id": "c32d7e17",
      "metadata": {
        "id": "c32d7e17"
      },
      "outputs": [],
      "source": [
        "x_test_reshaped = test_images.reshape(-1,28,28,1)\n",
        "x_train_reshaped = train_images.reshape(-1,28,28,1)\n",
        "categorical_test_labels = keras.utils.to_categorical(test_labels)\n",
        "categorical_train_labels = keras.utils.to_categorical(train_labels)"
      ]
    },
    {
      "cell_type": "code",
      "execution_count": 13,
      "id": "443ca45f",
      "metadata": {
        "id": "443ca45f",
        "outputId": "7739b551-39ef-41da-9eba-b1a70cbe7c36",
        "colab": {
          "base_uri": "https://localhost:8080/"
        }
      },
      "outputs": [
        {
          "output_type": "stream",
          "name": "stdout",
          "text": [
            "images shape: (60000, 28, 28, 1) and label shape: (60000, 10)\n",
            "images shape: (10000, 28, 28, 1) and label shape: (10000, 10)\n"
          ]
        }
      ],
      "source": [
        "print(f\"images shape: {x_train_reshaped.shape} and label shape: {categorical_train_labels.shape}\")\n",
        "print(f\"images shape: {x_test_reshaped.shape} and label shape: {categorical_test_labels.shape}\")"
      ]
    },
    {
      "cell_type": "code",
      "execution_count": 52,
      "id": "eef71ae7",
      "metadata": {
        "id": "eef71ae7",
        "outputId": "690b1308-8a4c-47f7-bd01-96284c6fc01b",
        "colab": {
          "base_uri": "https://localhost:8080/",
          "height": 430
        }
      },
      "outputs": [
        {
          "output_type": "display_data",
          "data": {
            "text/plain": [
              "\u001b[1mModel: \"sequential_6\"\u001b[0m\n"
            ],
            "text/html": [
              "<pre style=\"white-space:pre;overflow-x:auto;line-height:normal;font-family:Menlo,'DejaVu Sans Mono',consolas,'Courier New',monospace\"><span style=\"font-weight: bold\">Model: \"sequential_6\"</span>\n",
              "</pre>\n"
            ]
          },
          "metadata": {}
        },
        {
          "output_type": "display_data",
          "data": {
            "text/plain": [
              "┏━━━━━━━━━━━━━━━━━━━━━━━━━━━━━━━━━┳━━━━━━━━━━━━━━━━━━━━━━━━┳━━━━━━━━━━━━━━━┓\n",
              "┃\u001b[1m \u001b[0m\u001b[1mLayer (type)                   \u001b[0m\u001b[1m \u001b[0m┃\u001b[1m \u001b[0m\u001b[1mOutput Shape          \u001b[0m\u001b[1m \u001b[0m┃\u001b[1m \u001b[0m\u001b[1m      Param #\u001b[0m\u001b[1m \u001b[0m┃\n",
              "┡━━━━━━━━━━━━━━━━━━━━━━━━━━━━━━━━━╇━━━━━━━━━━━━━━━━━━━━━━━━╇━━━━━━━━━━━━━━━┩\n",
              "│ conv2d_18 (\u001b[38;5;33mConv2D\u001b[0m)              │ (\u001b[38;5;45mNone\u001b[0m, \u001b[38;5;34m26\u001b[0m, \u001b[38;5;34m26\u001b[0m, \u001b[38;5;34m32\u001b[0m)     │           \u001b[38;5;34m320\u001b[0m │\n",
              "├─────────────────────────────────┼────────────────────────┼───────────────┤\n",
              "│ conv2d_19 (\u001b[38;5;33mConv2D\u001b[0m)              │ (\u001b[38;5;45mNone\u001b[0m, \u001b[38;5;34m24\u001b[0m, \u001b[38;5;34m24\u001b[0m, \u001b[38;5;34m64\u001b[0m)     │        \u001b[38;5;34m18,496\u001b[0m │\n",
              "├─────────────────────────────────┼────────────────────────┼───────────────┤\n",
              "│ max_pooling2d_12 (\u001b[38;5;33mMaxPooling2D\u001b[0m) │ (\u001b[38;5;45mNone\u001b[0m, \u001b[38;5;34m12\u001b[0m, \u001b[38;5;34m12\u001b[0m, \u001b[38;5;34m64\u001b[0m)     │             \u001b[38;5;34m0\u001b[0m │\n",
              "├─────────────────────────────────┼────────────────────────┼───────────────┤\n",
              "│ conv2d_20 (\u001b[38;5;33mConv2D\u001b[0m)              │ (\u001b[38;5;45mNone\u001b[0m, \u001b[38;5;34m10\u001b[0m, \u001b[38;5;34m10\u001b[0m, \u001b[38;5;34m128\u001b[0m)    │        \u001b[38;5;34m73,856\u001b[0m │\n",
              "├─────────────────────────────────┼────────────────────────┼───────────────┤\n",
              "│ max_pooling2d_13 (\u001b[38;5;33mMaxPooling2D\u001b[0m) │ (\u001b[38;5;45mNone\u001b[0m, \u001b[38;5;34m5\u001b[0m, \u001b[38;5;34m5\u001b[0m, \u001b[38;5;34m128\u001b[0m)      │             \u001b[38;5;34m0\u001b[0m │\n",
              "├─────────────────────────────────┼────────────────────────┼───────────────┤\n",
              "│ flatten_6 (\u001b[38;5;33mFlatten\u001b[0m)             │ (\u001b[38;5;45mNone\u001b[0m, \u001b[38;5;34m3200\u001b[0m)           │             \u001b[38;5;34m0\u001b[0m │\n",
              "├─────────────────────────────────┼────────────────────────┼───────────────┤\n",
              "│ dense_12 (\u001b[38;5;33mDense\u001b[0m)                │ (\u001b[38;5;45mNone\u001b[0m, \u001b[38;5;34m64\u001b[0m)             │       \u001b[38;5;34m204,864\u001b[0m │\n",
              "├─────────────────────────────────┼────────────────────────┼───────────────┤\n",
              "│ dropout_6 (\u001b[38;5;33mDropout\u001b[0m)             │ (\u001b[38;5;45mNone\u001b[0m, \u001b[38;5;34m64\u001b[0m)             │             \u001b[38;5;34m0\u001b[0m │\n",
              "├─────────────────────────────────┼────────────────────────┼───────────────┤\n",
              "│ dense_13 (\u001b[38;5;33mDense\u001b[0m)                │ (\u001b[38;5;45mNone\u001b[0m, \u001b[38;5;34m10\u001b[0m)             │           \u001b[38;5;34m650\u001b[0m │\n",
              "└─────────────────────────────────┴────────────────────────┴───────────────┘\n"
            ],
            "text/html": [
              "<pre style=\"white-space:pre;overflow-x:auto;line-height:normal;font-family:Menlo,'DejaVu Sans Mono',consolas,'Courier New',monospace\">┏━━━━━━━━━━━━━━━━━━━━━━━━━━━━━━━━━┳━━━━━━━━━━━━━━━━━━━━━━━━┳━━━━━━━━━━━━━━━┓\n",
              "┃<span style=\"font-weight: bold\"> Layer (type)                    </span>┃<span style=\"font-weight: bold\"> Output Shape           </span>┃<span style=\"font-weight: bold\">       Param # </span>┃\n",
              "┡━━━━━━━━━━━━━━━━━━━━━━━━━━━━━━━━━╇━━━━━━━━━━━━━━━━━━━━━━━━╇━━━━━━━━━━━━━━━┩\n",
              "│ conv2d_18 (<span style=\"color: #0087ff; text-decoration-color: #0087ff\">Conv2D</span>)              │ (<span style=\"color: #00d7ff; text-decoration-color: #00d7ff\">None</span>, <span style=\"color: #00af00; text-decoration-color: #00af00\">26</span>, <span style=\"color: #00af00; text-decoration-color: #00af00\">26</span>, <span style=\"color: #00af00; text-decoration-color: #00af00\">32</span>)     │           <span style=\"color: #00af00; text-decoration-color: #00af00\">320</span> │\n",
              "├─────────────────────────────────┼────────────────────────┼───────────────┤\n",
              "│ conv2d_19 (<span style=\"color: #0087ff; text-decoration-color: #0087ff\">Conv2D</span>)              │ (<span style=\"color: #00d7ff; text-decoration-color: #00d7ff\">None</span>, <span style=\"color: #00af00; text-decoration-color: #00af00\">24</span>, <span style=\"color: #00af00; text-decoration-color: #00af00\">24</span>, <span style=\"color: #00af00; text-decoration-color: #00af00\">64</span>)     │        <span style=\"color: #00af00; text-decoration-color: #00af00\">18,496</span> │\n",
              "├─────────────────────────────────┼────────────────────────┼───────────────┤\n",
              "│ max_pooling2d_12 (<span style=\"color: #0087ff; text-decoration-color: #0087ff\">MaxPooling2D</span>) │ (<span style=\"color: #00d7ff; text-decoration-color: #00d7ff\">None</span>, <span style=\"color: #00af00; text-decoration-color: #00af00\">12</span>, <span style=\"color: #00af00; text-decoration-color: #00af00\">12</span>, <span style=\"color: #00af00; text-decoration-color: #00af00\">64</span>)     │             <span style=\"color: #00af00; text-decoration-color: #00af00\">0</span> │\n",
              "├─────────────────────────────────┼────────────────────────┼───────────────┤\n",
              "│ conv2d_20 (<span style=\"color: #0087ff; text-decoration-color: #0087ff\">Conv2D</span>)              │ (<span style=\"color: #00d7ff; text-decoration-color: #00d7ff\">None</span>, <span style=\"color: #00af00; text-decoration-color: #00af00\">10</span>, <span style=\"color: #00af00; text-decoration-color: #00af00\">10</span>, <span style=\"color: #00af00; text-decoration-color: #00af00\">128</span>)    │        <span style=\"color: #00af00; text-decoration-color: #00af00\">73,856</span> │\n",
              "├─────────────────────────────────┼────────────────────────┼───────────────┤\n",
              "│ max_pooling2d_13 (<span style=\"color: #0087ff; text-decoration-color: #0087ff\">MaxPooling2D</span>) │ (<span style=\"color: #00d7ff; text-decoration-color: #00d7ff\">None</span>, <span style=\"color: #00af00; text-decoration-color: #00af00\">5</span>, <span style=\"color: #00af00; text-decoration-color: #00af00\">5</span>, <span style=\"color: #00af00; text-decoration-color: #00af00\">128</span>)      │             <span style=\"color: #00af00; text-decoration-color: #00af00\">0</span> │\n",
              "├─────────────────────────────────┼────────────────────────┼───────────────┤\n",
              "│ flatten_6 (<span style=\"color: #0087ff; text-decoration-color: #0087ff\">Flatten</span>)             │ (<span style=\"color: #00d7ff; text-decoration-color: #00d7ff\">None</span>, <span style=\"color: #00af00; text-decoration-color: #00af00\">3200</span>)           │             <span style=\"color: #00af00; text-decoration-color: #00af00\">0</span> │\n",
              "├─────────────────────────────────┼────────────────────────┼───────────────┤\n",
              "│ dense_12 (<span style=\"color: #0087ff; text-decoration-color: #0087ff\">Dense</span>)                │ (<span style=\"color: #00d7ff; text-decoration-color: #00d7ff\">None</span>, <span style=\"color: #00af00; text-decoration-color: #00af00\">64</span>)             │       <span style=\"color: #00af00; text-decoration-color: #00af00\">204,864</span> │\n",
              "├─────────────────────────────────┼────────────────────────┼───────────────┤\n",
              "│ dropout_6 (<span style=\"color: #0087ff; text-decoration-color: #0087ff\">Dropout</span>)             │ (<span style=\"color: #00d7ff; text-decoration-color: #00d7ff\">None</span>, <span style=\"color: #00af00; text-decoration-color: #00af00\">64</span>)             │             <span style=\"color: #00af00; text-decoration-color: #00af00\">0</span> │\n",
              "├─────────────────────────────────┼────────────────────────┼───────────────┤\n",
              "│ dense_13 (<span style=\"color: #0087ff; text-decoration-color: #0087ff\">Dense</span>)                │ (<span style=\"color: #00d7ff; text-decoration-color: #00d7ff\">None</span>, <span style=\"color: #00af00; text-decoration-color: #00af00\">10</span>)             │           <span style=\"color: #00af00; text-decoration-color: #00af00\">650</span> │\n",
              "└─────────────────────────────────┴────────────────────────┴───────────────┘\n",
              "</pre>\n"
            ]
          },
          "metadata": {}
        },
        {
          "output_type": "display_data",
          "data": {
            "text/plain": [
              "\u001b[1m Total params: \u001b[0m\u001b[38;5;34m298,186\u001b[0m (1.14 MB)\n"
            ],
            "text/html": [
              "<pre style=\"white-space:pre;overflow-x:auto;line-height:normal;font-family:Menlo,'DejaVu Sans Mono',consolas,'Courier New',monospace\"><span style=\"font-weight: bold\"> Total params: </span><span style=\"color: #00af00; text-decoration-color: #00af00\">298,186</span> (1.14 MB)\n",
              "</pre>\n"
            ]
          },
          "metadata": {}
        },
        {
          "output_type": "display_data",
          "data": {
            "text/plain": [
              "\u001b[1m Trainable params: \u001b[0m\u001b[38;5;34m298,186\u001b[0m (1.14 MB)\n"
            ],
            "text/html": [
              "<pre style=\"white-space:pre;overflow-x:auto;line-height:normal;font-family:Menlo,'DejaVu Sans Mono',consolas,'Courier New',monospace\"><span style=\"font-weight: bold\"> Trainable params: </span><span style=\"color: #00af00; text-decoration-color: #00af00\">298,186</span> (1.14 MB)\n",
              "</pre>\n"
            ]
          },
          "metadata": {}
        },
        {
          "output_type": "display_data",
          "data": {
            "text/plain": [
              "\u001b[1m Non-trainable params: \u001b[0m\u001b[38;5;34m0\u001b[0m (0.00 B)\n"
            ],
            "text/html": [
              "<pre style=\"white-space:pre;overflow-x:auto;line-height:normal;font-family:Menlo,'DejaVu Sans Mono',consolas,'Courier New',monospace\"><span style=\"font-weight: bold\"> Non-trainable params: </span><span style=\"color: #00af00; text-decoration-color: #00af00\">0</span> (0.00 B)\n",
              "</pre>\n"
            ]
          },
          "metadata": {}
        }
      ],
      "source": [
        "simple_conv_model = Sequential()\n",
        "simple_conv_model.add(keras.Input(shape=(28,28,1)))\n",
        "simple_conv_model.add(Conv2D(32,(3,3),activation='relu'))\n",
        "simple_conv_model.add(Conv2D(64,(3,3),activation='relu'))\n",
        "simple_conv_model.add(MaxPooling2D((2,2)))\n",
        "simple_conv_model.add(Conv2D(128,(3,3),activation='relu'))\n",
        "simple_conv_model.add(MaxPooling2D((2,2)))\n",
        "simple_conv_model.add(Flatten())\n",
        "simple_conv_model.add(Dense(64,activation='relu'))\n",
        "simple_conv_model.add(Dropout(0.5))\n",
        "simple_conv_model.add(Dense(10, activation='softmax'))\n",
        "\n",
        "simple_conv_model.summary()"
      ]
    },
    {
      "cell_type": "code",
      "execution_count": 53,
      "id": "71c8430e",
      "metadata": {
        "id": "71c8430e"
      },
      "outputs": [],
      "source": [
        "simple_conv_model.compile(loss='categorical_crossentropy', optimizer='adam', metrics=['accuracy'])"
      ]
    },
    {
      "cell_type": "code",
      "execution_count": 54,
      "id": "9e4509d7",
      "metadata": {
        "id": "9e4509d7",
        "outputId": "468bbab1-d676-4231-e7ae-64c89389c059",
        "colab": {
          "base_uri": "https://localhost:8080/"
        }
      },
      "outputs": [
        {
          "output_type": "stream",
          "name": "stdout",
          "text": [
            "Epoch 1/12\n",
            "\u001b[1m480/480\u001b[0m \u001b[32m━━━━━━━━━━━━━━━━━━━━\u001b[0m\u001b[37m\u001b[0m \u001b[1m7s\u001b[0m 9ms/step - accuracy: 0.2062 - loss: 2.8338 - val_accuracy: 0.6342 - val_loss: 1.2186\n",
            "Epoch 2/12\n",
            "\u001b[1m480/480\u001b[0m \u001b[32m━━━━━━━━━━━━━━━━━━━━\u001b[0m\u001b[37m\u001b[0m \u001b[1m4s\u001b[0m 8ms/step - accuracy: 0.5281 - loss: 1.2533 - val_accuracy: 0.8412 - val_loss: 0.4349\n",
            "Epoch 3/12\n",
            "\u001b[1m480/480\u001b[0m \u001b[32m━━━━━━━━━━━━━━━━━━━━\u001b[0m\u001b[37m\u001b[0m \u001b[1m3s\u001b[0m 7ms/step - accuracy: 0.8059 - loss: 0.5454 - val_accuracy: 0.8823 - val_loss: 0.3300\n",
            "Epoch 4/12\n",
            "\u001b[1m480/480\u001b[0m \u001b[32m━━━━━━━━━━━━━━━━━━━━\u001b[0m\u001b[37m\u001b[0m \u001b[1m3s\u001b[0m 7ms/step - accuracy: 0.8558 - loss: 0.4065 - val_accuracy: 0.8916 - val_loss: 0.2958\n",
            "Epoch 5/12\n",
            "\u001b[1m480/480\u001b[0m \u001b[32m━━━━━━━━━━━━━━━━━━━━\u001b[0m\u001b[37m\u001b[0m \u001b[1m4s\u001b[0m 8ms/step - accuracy: 0.8691 - loss: 0.3618 - val_accuracy: 0.8981 - val_loss: 0.2871\n",
            "Epoch 6/12\n",
            "\u001b[1m480/480\u001b[0m \u001b[32m━━━━━━━━━━━━━━━━━━━━\u001b[0m\u001b[37m\u001b[0m \u001b[1m4s\u001b[0m 7ms/step - accuracy: 0.8804 - loss: 0.3280 - val_accuracy: 0.8934 - val_loss: 0.2954\n",
            "Epoch 7/12\n",
            "\u001b[1m480/480\u001b[0m \u001b[32m━━━━━━━━━━━━━━━━━━━━\u001b[0m\u001b[37m\u001b[0m \u001b[1m3s\u001b[0m 7ms/step - accuracy: 0.8890 - loss: 0.3078 - val_accuracy: 0.9055 - val_loss: 0.2611\n",
            "Epoch 8/12\n",
            "\u001b[1m480/480\u001b[0m \u001b[32m━━━━━━━━━━━━━━━━━━━━\u001b[0m\u001b[37m\u001b[0m \u001b[1m6s\u001b[0m 8ms/step - accuracy: 0.9007 - loss: 0.2793 - val_accuracy: 0.9066 - val_loss: 0.2664\n",
            "Epoch 9/12\n",
            "\u001b[1m480/480\u001b[0m \u001b[32m━━━━━━━━━━━━━━━━━━━━\u001b[0m\u001b[37m\u001b[0m \u001b[1m5s\u001b[0m 8ms/step - accuracy: 0.9014 - loss: 0.2655 - val_accuracy: 0.9096 - val_loss: 0.2708\n",
            "Epoch 10/12\n",
            "\u001b[1m480/480\u001b[0m \u001b[32m━━━━━━━━━━━━━━━━━━━━\u001b[0m\u001b[37m\u001b[0m \u001b[1m5s\u001b[0m 8ms/step - accuracy: 0.9095 - loss: 0.2440 - val_accuracy: 0.9081 - val_loss: 0.2676\n",
            "Epoch 11/12\n",
            "\u001b[1m480/480\u001b[0m \u001b[32m━━━━━━━━━━━━━━━━━━━━\u001b[0m\u001b[37m\u001b[0m \u001b[1m4s\u001b[0m 8ms/step - accuracy: 0.9129 - loss: 0.2344 - val_accuracy: 0.9057 - val_loss: 0.2952\n",
            "Epoch 12/12\n",
            "\u001b[1m480/480\u001b[0m \u001b[32m━━━━━━━━━━━━━━━━━━━━\u001b[0m\u001b[37m\u001b[0m \u001b[1m3s\u001b[0m 7ms/step - accuracy: 0.9181 - loss: 0.2222 - val_accuracy: 0.9161 - val_loss: 0.2558\n"
          ]
        }
      ],
      "source": [
        "history = simple_conv_model.fit(x_train_reshaped,categorical_train_labels, epochs=12, batch_size=100, validation_split=0.2)"
      ]
    },
    {
      "cell_type": "code",
      "source": [
        "plot_training_history(history)"
      ],
      "metadata": {
        "id": "0rM5-tJ79oZu",
        "outputId": "21b3d06e-e88f-49d9-92d6-ad1c01912177",
        "colab": {
          "base_uri": "https://localhost:8080/",
          "height": 594
        }
      },
      "id": "0rM5-tJ79oZu",
      "execution_count": 55,
      "outputs": [
        {
          "output_type": "display_data",
          "data": {
            "text/plain": [
              "<Figure size 1500x500 with 2 Axes>"
            ],
            "image/png": "[encoded data removed]"
          },
          "metadata": {}
        },
        {
          "output_type": "stream",
          "name": "stdout",
          "text": [
            "\n",
            "Final Training Loss: 0.2254\n",
            "Final Validation Loss: 0.2558\n",
            "Final Training Accuracy: 0.9174\n",
            "Final Validation Accuracy: 0.9161\n"
          ]
        }
      ]
    },
    {
      "cell_type": "code",
      "execution_count": null,
      "id": "e0e4c062",
      "metadata": {
        "id": "e0e4c062",
        "outputId": "72bc16b4-855f-4a16-8b7e-a3ba78936413",
        "colab": {
          "base_uri": "https://localhost:8080/"
        }
      },
      "outputs": [
        {
          "output_type": "execute_result",
          "data": {
            "text/plain": [
              "(10000, 28, 28, 1)"
            ]
          },
          "metadata": {},
          "execution_count": 37
        }
      ],
      "source": [
        "x_train_normalized = train_images.astype('float32')\n",
        "x_test_normalized = test_images.astype('float32')\n",
        "\n",
        "x_train_normalized /= 255\n",
        "x_train_normalized /= 255\n",
        "\n",
        "x_train_normalized_reshaped = x_train_normalized.reshape(-1,28,28,1)\n",
        "x_test_normalized_reshaped = x_test_normalized.reshape(-1,28,28,1)\n",
        "\n",
        "x_test_normalized_reshaped.shape"
      ]
    },
    {
      "cell_type": "code",
      "execution_count": null,
      "id": "6b151c47",
      "metadata": {
        "id": "6b151c47",
        "outputId": "ac279a9e-f9f7-4daf-cd1a-b21acf8b3ec0",
        "colab": {
          "base_uri": "https://localhost:8080/"
        }
      },
      "outputs": [
        {
          "output_type": "stream",
          "name": "stdout",
          "text": [
            "Epoch 1/20\n",
            "\u001b[1m240/240\u001b[0m \u001b[32m━━━━━━━━━━━━━━━━━━━━\u001b[0m\u001b[37m\u001b[0m \u001b[1m7s\u001b[0m 18ms/step - accuracy: 0.0998 - loss: 4.8800 - val_accuracy: 0.0957 - val_loss: 2.4824\n",
            "Epoch 2/20\n",
            "\u001b[1m240/240\u001b[0m \u001b[32m━━━━━━━━━━━━━━━━━━━━\u001b[0m\u001b[37m\u001b[0m \u001b[1m7s\u001b[0m 12ms/step - accuracy: 0.1022 - loss: 2.5940 - val_accuracy: 0.0957 - val_loss: 2.4149\n",
            "Epoch 3/20\n",
            "\u001b[1m240/240\u001b[0m \u001b[32m━━━━━━━━━━━━━━━━━━━━\u001b[0m\u001b[37m\u001b[0m \u001b[1m5s\u001b[0m 13ms/step - accuracy: 0.1028 - loss: 2.5046 - val_accuracy: 0.0957 - val_loss: 2.4058\n",
            "Epoch 4/20\n",
            "\u001b[1m240/240\u001b[0m \u001b[32m━━━━━━━━━━━━━━━━━━━━\u001b[0m\u001b[37m\u001b[0m \u001b[1m3s\u001b[0m 12ms/step - accuracy: 0.1027 - loss: 2.4479 - val_accuracy: 0.0957 - val_loss: 2.3804\n",
            "Epoch 5/20\n",
            "\u001b[1m240/240\u001b[0m \u001b[32m━━━━━━━━━━━━━━━━━━━━\u001b[0m\u001b[37m\u001b[0m \u001b[1m3s\u001b[0m 12ms/step - accuracy: 0.1020 - loss: 2.4070 - val_accuracy: 0.0957 - val_loss: 2.3483\n",
            "Epoch 6/20\n",
            "\u001b[1m240/240\u001b[0m \u001b[32m━━━━━━━━━━━━━━━━━━━━\u001b[0m\u001b[37m\u001b[0m \u001b[1m5s\u001b[0m 13ms/step - accuracy: 0.1004 - loss: 2.3765 - val_accuracy: 0.0957 - val_loss: 2.3317\n",
            "Epoch 7/20\n",
            "\u001b[1m240/240\u001b[0m \u001b[32m━━━━━━━━━━━━━━━━━━━━\u001b[0m\u001b[37m\u001b[0m \u001b[1m5s\u001b[0m 12ms/step - accuracy: 0.1005 - loss: 2.3504 - val_accuracy: 0.0957 - val_loss: 2.3191\n",
            "Epoch 8/20\n",
            "\u001b[1m240/240\u001b[0m \u001b[32m━━━━━━━━━━━━━━━━━━━━\u001b[0m\u001b[37m\u001b[0m \u001b[1m5s\u001b[0m 13ms/step - accuracy: 0.1015 - loss: 2.3347 - val_accuracy: 0.0957 - val_loss: 2.3168\n",
            "Epoch 9/20\n",
            "\u001b[1m240/240\u001b[0m \u001b[32m━━━━━━━━━━━━━━━━━━━━\u001b[0m\u001b[37m\u001b[0m \u001b[1m5s\u001b[0m 12ms/step - accuracy: 0.1014 - loss: 2.3218 - val_accuracy: 0.0957 - val_loss: 2.3118\n",
            "Epoch 10/20\n",
            "\u001b[1m240/240\u001b[0m \u001b[32m━━━━━━━━━━━━━━━━━━━━\u001b[0m\u001b[37m\u001b[0m \u001b[1m5s\u001b[0m 12ms/step - accuracy: 0.0976 - loss: 2.3151 - val_accuracy: 0.0957 - val_loss: 2.3069\n",
            "Epoch 11/20\n",
            "\u001b[1m240/240\u001b[0m \u001b[32m━━━━━━━━━━━━━━━━━━━━\u001b[0m\u001b[37m\u001b[0m \u001b[1m5s\u001b[0m 13ms/step - accuracy: 0.1030 - loss: 2.3084 - val_accuracy: 0.0957 - val_loss: 2.3049\n",
            "Epoch 12/20\n",
            "\u001b[1m240/240\u001b[0m \u001b[32m━━━━━━━━━━━━━━━━━━━━\u001b[0m\u001b[37m\u001b[0m \u001b[1m5s\u001b[0m 12ms/step - accuracy: 0.1040 - loss: 2.3056 - val_accuracy: 0.0957 - val_loss: 2.3040\n",
            "Epoch 13/20\n",
            "\u001b[1m240/240\u001b[0m \u001b[32m━━━━━━━━━━━━━━━━━━━━\u001b[0m\u001b[37m\u001b[0m \u001b[1m3s\u001b[0m 12ms/step - accuracy: 0.0995 - loss: 2.3047 - val_accuracy: 0.0957 - val_loss: 2.3045\n",
            "Epoch 14/20\n",
            "\u001b[1m240/240\u001b[0m \u001b[32m━━━━━━━━━━━━━━━━━━━━\u001b[0m\u001b[37m\u001b[0m \u001b[1m3s\u001b[0m 12ms/step - accuracy: 0.0994 - loss: 2.3039 - val_accuracy: 0.0957 - val_loss: 2.3033\n",
            "Epoch 15/20\n",
            "\u001b[1m240/240\u001b[0m \u001b[32m━━━━━━━━━━━━━━━━━━━━\u001b[0m\u001b[37m\u001b[0m \u001b[1m5s\u001b[0m 12ms/step - accuracy: 0.1013 - loss: 2.3028 - val_accuracy: 0.0957 - val_loss: 2.3029\n",
            "Epoch 16/20\n",
            "\u001b[1m240/240\u001b[0m \u001b[32m━━━━━━━━━━━━━━━━━━━━\u001b[0m\u001b[37m\u001b[0m \u001b[1m3s\u001b[0m 12ms/step - accuracy: 0.1002 - loss: 2.3027 - val_accuracy: 0.0957 - val_loss: 2.3028\n",
            "Epoch 17/20\n",
            "\u001b[1m240/240\u001b[0m \u001b[32m━━━━━━━━━━━━━━━━━━━━\u001b[0m\u001b[37m\u001b[0m \u001b[1m3s\u001b[0m 12ms/step - accuracy: 0.1026 - loss: 2.3026 - val_accuracy: 0.0957 - val_loss: 2.3027\n",
            "Epoch 18/20\n",
            "\u001b[1m240/240\u001b[0m \u001b[32m━━━━━━━━━━━━━━━━━━━━\u001b[0m\u001b[37m\u001b[0m \u001b[1m3s\u001b[0m 12ms/step - accuracy: 0.1012 - loss: 2.3026 - val_accuracy: 0.0957 - val_loss: 2.3027\n",
            "Epoch 19/20\n",
            "\u001b[1m240/240\u001b[0m \u001b[32m━━━━━━━━━━━━━━━━━━━━\u001b[0m\u001b[37m\u001b[0m \u001b[1m3s\u001b[0m 12ms/step - accuracy: 0.1016 - loss: 2.3026 - val_accuracy: 0.0957 - val_loss: 2.3027\n",
            "Epoch 20/20\n",
            "\u001b[1m240/240\u001b[0m \u001b[32m━━━━━━━━━━━━━━━━━━━━\u001b[0m\u001b[37m\u001b[0m \u001b[1m3s\u001b[0m 12ms/step - accuracy: 0.1000 - loss: 2.3026 - val_accuracy: 0.0957 - val_loss: 2.3027\n"
          ]
        },
        {
          "output_type": "execute_result",
          "data": {
            "text/plain": [
              "<keras.src.callbacks.history.History at 0x7869d06854c0>"
            ]
          },
          "metadata": {},
          "execution_count": 36
        }
      ],
      "source": [
        "simple_conv_model.fit(x_train_normalized_reshaped, categorical_train_labels,epochs=20, batch_size=200, validation_split=0.2)"
      ]
    },
    {
      "cell_type": "code",
      "execution_count": null,
      "id": "5696802e",
      "metadata": {
        "id": "5696802e",
        "outputId": "36dcdce2-a605-4b1f-8b50-660d10993ed6"
      },
      "outputs": [
        {
          "data": {
            "text/html": [
              "<pre style=\"white-space:pre;overflow-x:auto;line-height:normal;font-family:Menlo,'DejaVu Sans Mono',consolas,'Courier New',monospace\"><span style=\"font-weight: bold\">Model: \"sequential_12\"</span>\n",
              "</pre>\n"
            ],
            "text/plain": [
              "\u001b[1mModel: \"sequential_12\"\u001b[0m\n"
            ]
          },
          "metadata": {},
          "output_type": "display_data"
        },
        {
          "data": {
            "text/html": [
              "<pre style=\"white-space:pre;overflow-x:auto;line-height:normal;font-family:Menlo,'DejaVu Sans Mono',consolas,'Courier New',monospace\">┏━━━━━━━━━━━━━━━━━━━━━━━━━━━━━━━━━┳━━━━━━━━━━━━━━━━━━━━━━━━┳━━━━━━━━━━━━━━━┓\n",
              "┃<span style=\"font-weight: bold\"> Layer (type)                    </span>┃<span style=\"font-weight: bold\"> Output Shape           </span>┃<span style=\"font-weight: bold\">       Param # </span>┃\n",
              "┡━━━━━━━━━━━━━━━━━━━━━━━━━━━━━━━━━╇━━━━━━━━━━━━━━━━━━━━━━━━╇━━━━━━━━━━━━━━━┩\n",
              "│ dense_34 (<span style=\"color: #0087ff; text-decoration-color: #0087ff\">Dense</span>)                │ (<span style=\"color: #00d7ff; text-decoration-color: #00d7ff\">None</span>, <span style=\"color: #00af00; text-decoration-color: #00af00\">128</span>)            │       <span style=\"color: #00af00; text-decoration-color: #00af00\">100,480</span> │\n",
              "├─────────────────────────────────┼────────────────────────┼───────────────┤\n",
              "│ dense_35 (<span style=\"color: #0087ff; text-decoration-color: #0087ff\">Dense</span>)                │ (<span style=\"color: #00d7ff; text-decoration-color: #00d7ff\">None</span>, <span style=\"color: #00af00; text-decoration-color: #00af00\">10</span>)             │         <span style=\"color: #00af00; text-decoration-color: #00af00\">1,290</span> │\n",
              "└─────────────────────────────────┴────────────────────────┴───────────────┘\n",
              "</pre>\n"
            ],
            "text/plain": [
              "┏━━━━━━━━━━━━━━━━━━━━━━━━━━━━━━━━━┳━━━━━━━━━━━━━━━━━━━━━━━━┳━━━━━━━━━━━━━━━┓\n",
              "┃\u001b[1m \u001b[0m\u001b[1mLayer (type)                   \u001b[0m\u001b[1m \u001b[0m┃\u001b[1m \u001b[0m\u001b[1mOutput Shape          \u001b[0m\u001b[1m \u001b[0m┃\u001b[1m \u001b[0m\u001b[1m      Param #\u001b[0m\u001b[1m \u001b[0m┃\n",
              "┡━━━━━━━━━━━━━━━━━━━━━━━━━━━━━━━━━╇━━━━━━━━━━━━━━━━━━━━━━━━╇━━━━━━━━━━━━━━━┩\n",
              "│ dense_34 (\u001b[38;5;33mDense\u001b[0m)                │ (\u001b[38;5;45mNone\u001b[0m, \u001b[38;5;34m128\u001b[0m)            │       \u001b[38;5;34m100,480\u001b[0m │\n",
              "├─────────────────────────────────┼────────────────────────┼───────────────┤\n",
              "│ dense_35 (\u001b[38;5;33mDense\u001b[0m)                │ (\u001b[38;5;45mNone\u001b[0m, \u001b[38;5;34m10\u001b[0m)             │         \u001b[38;5;34m1,290\u001b[0m │\n",
              "└─────────────────────────────────┴────────────────────────┴───────────────┘\n"
            ]
          },
          "metadata": {},
          "output_type": "display_data"
        },
        {
          "data": {
            "text/html": [
              "<pre style=\"white-space:pre;overflow-x:auto;line-height:normal;font-family:Menlo,'DejaVu Sans Mono',consolas,'Courier New',monospace\"><span style=\"font-weight: bold\"> Total params: </span><span style=\"color: #00af00; text-decoration-color: #00af00\">101,770</span> (397.54 KB)\n",
              "</pre>\n"
            ],
            "text/plain": [
              "\u001b[1m Total params: \u001b[0m\u001b[38;5;34m101,770\u001b[0m (397.54 KB)\n"
            ]
          },
          "metadata": {},
          "output_type": "display_data"
        },
        {
          "data": {
            "text/html": [
              "<pre style=\"white-space:pre;overflow-x:auto;line-height:normal;font-family:Menlo,'DejaVu Sans Mono',consolas,'Courier New',monospace\"><span style=\"font-weight: bold\"> Trainable params: </span><span style=\"color: #00af00; text-decoration-color: #00af00\">101,770</span> (397.54 KB)\n",
              "</pre>\n"
            ],
            "text/plain": [
              "\u001b[1m Trainable params: \u001b[0m\u001b[38;5;34m101,770\u001b[0m (397.54 KB)\n"
            ]
          },
          "metadata": {},
          "output_type": "display_data"
        },
        {
          "data": {
            "text/html": [
              "<pre style=\"white-space:pre;overflow-x:auto;line-height:normal;font-family:Menlo,'DejaVu Sans Mono',consolas,'Courier New',monospace\"><span style=\"font-weight: bold\"> Non-trainable params: </span><span style=\"color: #00af00; text-decoration-color: #00af00\">0</span> (0.00 B)\n",
              "</pre>\n"
            ],
            "text/plain": [
              "\u001b[1m Non-trainable params: \u001b[0m\u001b[38;5;34m0\u001b[0m (0.00 B)\n"
            ]
          },
          "metadata": {},
          "output_type": "display_data"
        }
      ],
      "source": [
        "# model.summary()"
      ]
    },
    {
      "cell_type": "code",
      "execution_count": null,
      "id": "296254fd",
      "metadata": {
        "id": "296254fd"
      },
      "outputs": [],
      "source": [
        "model.compile(loss=categorical_crossentropy,optimizer=RMSprop(learning_rate=0.01), metrics=[Accuracy])"
      ]
    },
    {
      "cell_type": "code",
      "execution_count": null,
      "id": "a9c82dd2",
      "metadata": {
        "id": "a9c82dd2",
        "outputId": "d58924f4-49be-4d56-de3c-8435e14b01c1"
      },
      "outputs": [
        {
          "name": "stdout",
          "output_type": "stream",
          "text": [
            "(60000, 784)\n",
            "(60000, 10)\n"
          ]
        },
        {
          "data": {
            "text/plain": [
              "array([0.        , 0.        , 0.        , 0.        , 0.        ,\n",
              "       0.        , 0.        , 0.        , 0.        , 0.        ,\n",
              "       0.        , 0.        , 0.        , 0.        , 0.        ,\n",
              "       0.        , 0.        , 0.        , 0.        , 0.        ,\n",
              "       0.        , 0.        , 0.        , 0.        , 0.        ,\n",
              "       0.        , 0.        , 0.        , 0.        , 0.        ,\n",
              "       0.        , 0.        , 0.        , 0.        , 0.        ,\n",
              "       0.        , 0.        , 0.        , 0.        , 0.        ,\n",
              "       0.        , 0.        , 0.        , 0.        , 0.        ,\n",
              "       0.        , 0.        , 0.        , 0.        , 0.        ,\n",
              "       0.        , 0.        , 0.        , 0.        , 0.        ,\n",
              "       0.        , 0.        , 0.        , 0.        , 0.        ,\n",
              "       0.        , 0.        , 0.        , 0.        , 0.        ,\n",
              "       0.        , 0.        , 0.        , 0.        , 0.        ,\n",
              "       0.        , 0.        , 0.        , 0.        , 0.        ,\n",
              "       0.        , 0.        , 0.        , 0.        , 0.        ,\n",
              "       0.        , 0.        , 0.        , 0.        , 0.        ,\n",
              "       0.        , 0.        , 0.        , 0.        , 0.        ,\n",
              "       0.        , 0.        , 0.        , 0.        , 0.        ,\n",
              "       0.        , 0.00392157, 0.        , 0.        , 0.05098039,\n",
              "       0.28627452, 0.        , 0.        , 0.00392157, 0.01568628,\n",
              "       0.        , 0.        , 0.        , 0.        , 0.00392157,\n",
              "       0.00392157, 0.        , 0.        , 0.        , 0.        ,\n",
              "       0.        , 0.        , 0.        , 0.        , 0.        ,\n",
              "       0.        , 0.        , 0.        , 0.        , 0.01176471,\n",
              "       0.        , 0.14117648, 0.53333336, 0.49803922, 0.24313726,\n",
              "       0.21176471, 0.        , 0.        , 0.        , 0.00392157,\n",
              "       0.01176471, 0.01568628, 0.        , 0.        , 0.01176471,\n",
              "       0.        , 0.        , 0.        , 0.        , 0.        ,\n",
              "       0.        , 0.        , 0.        , 0.        , 0.        ,\n",
              "       0.        , 0.        , 0.02352941, 0.        , 0.4       ,\n",
              "       0.8       , 0.6901961 , 0.5254902 , 0.5647059 , 0.48235294,\n",
              "       0.09019608, 0.        , 0.        , 0.        , 0.        ,\n",
              "       0.04705882, 0.03921569, 0.        , 0.        , 0.        ,\n",
              "       0.        , 0.        , 0.        , 0.        , 0.        ,\n",
              "       0.        , 0.        , 0.        , 0.        , 0.        ,\n",
              "       0.        , 0.        , 0.60784316, 0.9254902 , 0.8117647 ,\n",
              "       0.69803923, 0.41960785, 0.6117647 , 0.6313726 , 0.42745098,\n",
              "       0.2509804 , 0.09019608, 0.3019608 , 0.50980395, 0.28235295,\n",
              "       0.05882353, 0.        , 0.        , 0.        , 0.        ,\n",
              "       0.        , 0.        , 0.        , 0.        , 0.        ,\n",
              "       0.        , 0.        , 0.00392157, 0.        , 0.27058825,\n",
              "       0.8117647 , 0.8745098 , 0.85490197, 0.84705883, 0.84705883,\n",
              "       0.6392157 , 0.49803922, 0.4745098 , 0.47843137, 0.57254905,\n",
              "       0.5529412 , 0.34509805, 0.6745098 , 0.25882354, 0.        ,\n",
              "       0.        , 0.        , 0.        , 0.        , 0.        ,\n",
              "       0.        , 0.        , 0.        , 0.00392157, 0.00392157,\n",
              "       0.00392157, 0.        , 0.78431374, 0.9098039 , 0.9098039 ,\n",
              "       0.9137255 , 0.8980392 , 0.8745098 , 0.8745098 , 0.84313726,\n",
              "       0.8352941 , 0.6431373 , 0.49803922, 0.48235294, 0.76862746,\n",
              "       0.8980392 , 0.        , 0.        , 0.        , 0.        ,\n",
              "       0.        , 0.        , 0.        , 0.        , 0.        ,\n",
              "       0.        , 0.        , 0.        , 0.        , 0.        ,\n",
              "       0.7176471 , 0.88235295, 0.84705883, 0.8745098 , 0.89411765,\n",
              "       0.92156863, 0.8901961 , 0.8784314 , 0.87058824, 0.8784314 ,\n",
              "       0.8666667 , 0.8745098 , 0.9607843 , 0.6784314 , 0.        ,\n",
              "       0.        , 0.        , 0.        , 0.        , 0.        ,\n",
              "       0.        , 0.        , 0.        , 0.        , 0.        ,\n",
              "       0.        , 0.        , 0.        , 0.75686276, 0.89411765,\n",
              "       0.85490197, 0.8352941 , 0.7764706 , 0.7058824 , 0.83137256,\n",
              "       0.8235294 , 0.827451  , 0.8352941 , 0.8745098 , 0.8627451 ,\n",
              "       0.9529412 , 0.7921569 , 0.        , 0.        , 0.        ,\n",
              "       0.        , 0.        , 0.        , 0.        , 0.        ,\n",
              "       0.        , 0.        , 0.00392157, 0.01176471, 0.        ,\n",
              "       0.04705882, 0.85882354, 0.8627451 , 0.83137256, 0.85490197,\n",
              "       0.7529412 , 0.6627451 , 0.8901961 , 0.8156863 , 0.85490197,\n",
              "       0.8784314 , 0.83137256, 0.8862745 , 0.77254903, 0.81960785,\n",
              "       0.20392157, 0.        , 0.        , 0.        , 0.        ,\n",
              "       0.        , 0.        , 0.        , 0.        , 0.        ,\n",
              "       0.        , 0.02352941, 0.        , 0.3882353 , 0.95686275,\n",
              "       0.87058824, 0.8627451 , 0.85490197, 0.79607844, 0.7764706 ,\n",
              "       0.8666667 , 0.84313726, 0.8352941 , 0.87058824, 0.8627451 ,\n",
              "       0.9607843 , 0.46666667, 0.654902  , 0.21960784, 0.        ,\n",
              "       0.        , 0.        , 0.        , 0.        , 0.        ,\n",
              "       0.        , 0.        , 0.        , 0.01568628, 0.        ,\n",
              "       0.        , 0.21568628, 0.9254902 , 0.89411765, 0.9019608 ,\n",
              "       0.89411765, 0.9411765 , 0.9098039 , 0.8352941 , 0.85490197,\n",
              "       0.8745098 , 0.91764706, 0.8509804 , 0.8509804 , 0.81960785,\n",
              "       0.36078432, 0.        , 0.        , 0.        , 0.00392157,\n",
              "       0.01568628, 0.02352941, 0.02745098, 0.00784314, 0.        ,\n",
              "       0.        , 0.        , 0.        , 0.        , 0.92941177,\n",
              "       0.8862745 , 0.8509804 , 0.8745098 , 0.87058824, 0.85882354,\n",
              "       0.87058824, 0.8666667 , 0.84705883, 0.8745098 , 0.8980392 ,\n",
              "       0.84313726, 0.85490197, 1.        , 0.3019608 , 0.        ,\n",
              "       0.        , 0.01176471, 0.        , 0.        , 0.        ,\n",
              "       0.        , 0.        , 0.        , 0.        , 0.24313726,\n",
              "       0.5686275 , 0.8       , 0.89411765, 0.8117647 , 0.8352941 ,\n",
              "       0.8666667 , 0.85490197, 0.8156863 , 0.827451  , 0.85490197,\n",
              "       0.8784314 , 0.8745098 , 0.85882354, 0.84313726, 0.8784314 ,\n",
              "       0.95686275, 0.62352943, 0.        , 0.        , 0.        ,\n",
              "       0.        , 0.        , 0.07058824, 0.17254902, 0.32156864,\n",
              "       0.41960785, 0.7411765 , 0.89411765, 0.8627451 , 0.87058824,\n",
              "       0.8509804 , 0.8862745 , 0.78431374, 0.8039216 , 0.827451  ,\n",
              "       0.9019608 , 0.8784314 , 0.91764706, 0.6901961 , 0.7372549 ,\n",
              "       0.98039216, 0.972549  , 0.9137255 , 0.93333334, 0.84313726,\n",
              "       0.        , 0.        , 0.22352941, 0.73333335, 0.8156863 ,\n",
              "       0.8784314 , 0.8666667 , 0.8784314 , 0.8156863 , 0.8       ,\n",
              "       0.8392157 , 0.8156863 , 0.81960785, 0.78431374, 0.62352943,\n",
              "       0.9607843 , 0.75686276, 0.80784315, 0.8745098 , 1.        ,\n",
              "       1.        , 0.8666667 , 0.91764706, 0.8666667 , 0.827451  ,\n",
              "       0.8627451 , 0.9098039 , 0.9647059 , 0.        , 0.01176471,\n",
              "       0.7921569 , 0.89411765, 0.8784314 , 0.8666667 , 0.827451  ,\n",
              "       0.827451  , 0.8392157 , 0.8039216 , 0.8039216 , 0.8039216 ,\n",
              "       0.8627451 , 0.9411765 , 0.3137255 , 0.5882353 , 1.        ,\n",
              "       0.8980392 , 0.8666667 , 0.7372549 , 0.6039216 , 0.7490196 ,\n",
              "       0.8235294 , 0.8       , 0.81960785, 0.87058824, 0.89411765,\n",
              "       0.88235295, 0.        , 0.38431373, 0.9137255 , 0.7764706 ,\n",
              "       0.8235294 , 0.87058824, 0.8980392 , 0.8980392 , 0.91764706,\n",
              "       0.9764706 , 0.8627451 , 0.7607843 , 0.84313726, 0.8509804 ,\n",
              "       0.94509804, 0.25490198, 0.28627452, 0.41568628, 0.45882353,\n",
              "       0.65882355, 0.85882354, 0.8666667 , 0.84313726, 0.8509804 ,\n",
              "       0.8745098 , 0.8745098 , 0.8784314 , 0.8980392 , 0.11372549,\n",
              "       0.29411766, 0.8       , 0.83137256, 0.8       , 0.75686276,\n",
              "       0.8039216 , 0.827451  , 0.88235295, 0.84705883, 0.7254902 ,\n",
              "       0.77254903, 0.80784315, 0.7764706 , 0.8352941 , 0.9411765 ,\n",
              "       0.7647059 , 0.8901961 , 0.9607843 , 0.9372549 , 0.8745098 ,\n",
              "       0.85490197, 0.83137256, 0.81960785, 0.87058824, 0.8627451 ,\n",
              "       0.8666667 , 0.9019608 , 0.2627451 , 0.1882353 , 0.79607844,\n",
              "       0.7176471 , 0.7607843 , 0.8352941 , 0.77254903, 0.7254902 ,\n",
              "       0.74509805, 0.7607843 , 0.7529412 , 0.7921569 , 0.8392157 ,\n",
              "       0.85882354, 0.8666667 , 0.8627451 , 0.9254902 , 0.88235295,\n",
              "       0.84705883, 0.78039217, 0.80784315, 0.7294118 , 0.70980394,\n",
              "       0.69411767, 0.6745098 , 0.70980394, 0.8039216 , 0.80784315,\n",
              "       0.4509804 , 0.        , 0.47843137, 0.85882354, 0.75686276,\n",
              "       0.7019608 , 0.67058825, 0.7176471 , 0.76862746, 0.8       ,\n",
              "       0.8235294 , 0.8352941 , 0.8117647 , 0.827451  , 0.8235294 ,\n",
              "       0.78431374, 0.76862746, 0.7607843 , 0.7490196 , 0.7647059 ,\n",
              "       0.7490196 , 0.7764706 , 0.7529412 , 0.6901961 , 0.6117647 ,\n",
              "       0.654902  , 0.69411767, 0.8235294 , 0.36078432, 0.        ,\n",
              "       0.        , 0.2901961 , 0.7411765 , 0.83137256, 0.7490196 ,\n",
              "       0.6862745 , 0.6745098 , 0.6862745 , 0.70980394, 0.7254902 ,\n",
              "       0.7372549 , 0.7411765 , 0.7372549 , 0.75686276, 0.7764706 ,\n",
              "       0.8       , 0.81960785, 0.8235294 , 0.8235294 , 0.827451  ,\n",
              "       0.7372549 , 0.7372549 , 0.7607843 , 0.7529412 , 0.84705883,\n",
              "       0.6666667 , 0.        , 0.00784314, 0.        , 0.        ,\n",
              "       0.        , 0.25882354, 0.78431374, 0.87058824, 0.92941177,\n",
              "       0.9372549 , 0.9490196 , 0.9647059 , 0.9529412 , 0.95686275,\n",
              "       0.8666667 , 0.8627451 , 0.75686276, 0.7490196 , 0.7019608 ,\n",
              "       0.7137255 , 0.7137255 , 0.70980394, 0.6901961 , 0.6509804 ,\n",
              "       0.65882355, 0.3882353 , 0.22745098, 0.        , 0.        ,\n",
              "       0.        , 0.        , 0.        , 0.        , 0.        ,\n",
              "       0.        , 0.        , 0.15686275, 0.23921569, 0.17254902,\n",
              "       0.28235295, 0.16078432, 0.13725491, 0.        , 0.        ,\n",
              "       0.        , 0.        , 0.        , 0.        , 0.        ,\n",
              "       0.        , 0.        , 0.        , 0.        , 0.        ,\n",
              "       0.        , 0.        , 0.        , 0.        , 0.        ,\n",
              "       0.        , 0.        , 0.        , 0.        , 0.        ,\n",
              "       0.        , 0.        , 0.        , 0.        , 0.        ,\n",
              "       0.        , 0.        , 0.        , 0.        , 0.        ,\n",
              "       0.        , 0.        , 0.        , 0.        , 0.        ,\n",
              "       0.        , 0.        , 0.        , 0.        , 0.        ,\n",
              "       0.        , 0.        , 0.        , 0.        , 0.        ,\n",
              "       0.        , 0.        , 0.        , 0.        , 0.        ,\n",
              "       0.        , 0.        , 0.        , 0.        , 0.        ,\n",
              "       0.        , 0.        , 0.        , 0.        , 0.        ,\n",
              "       0.        , 0.        , 0.        , 0.        , 0.        ,\n",
              "       0.        , 0.        , 0.        , 0.        ], dtype=float32)"
            ]
          },
          "execution_count": 229,
          "metadata": {},
          "output_type": "execute_result"
        }
      ],
      "source": [
        "print(x_train.shape)\n",
        "print(categorical_train_labels.shape)\n",
        "categorical_train_labels[5]\n",
        "x_train[0]"
      ]
    },
    {
      "cell_type": "code",
      "execution_count": null,
      "id": "e0fd7d2e",
      "metadata": {
        "id": "e0fd7d2e",
        "outputId": "1a0d99f2-b718-4cc3-b0a7-bfe1fd549efd"
      },
      "outputs": [
        {
          "name": "stdout",
          "output_type": "stream",
          "text": [
            "Epoch 1/300\n",
            "\u001b[1m480/480\u001b[0m \u001b[32m━━━━━━━━━━━━━━━━━━━━\u001b[0m\u001b[37m\u001b[0m \u001b[1m3s\u001b[0m 2ms/step - accuracy: 0.0015 - loss: 0.7213 - val_accuracy: 0.0062 - val_loss: 0.4985\n",
            "Epoch 2/300\n",
            "\u001b[1m480/480\u001b[0m \u001b[32m━━━━━━━━━━━━━━━━━━━━\u001b[0m\u001b[37m\u001b[0m \u001b[1m1s\u001b[0m 2ms/step - accuracy: 0.0071 - loss: 0.4601 - val_accuracy: 0.0111 - val_loss: 0.5545\n",
            "Epoch 3/300\n",
            "\u001b[1m480/480\u001b[0m \u001b[32m━━━━━━━━━━━━━━━━━━━━\u001b[0m\u001b[37m\u001b[0m \u001b[1m1s\u001b[0m 2ms/step - accuracy: 0.0124 - loss: 0.4208 - val_accuracy: 0.0203 - val_loss: 0.4755\n",
            "Epoch 4/300\n",
            "\u001b[1m480/480\u001b[0m \u001b[32m━━━━━━━━━━━━━━━━━━━━\u001b[0m\u001b[37m\u001b[0m \u001b[1m1s\u001b[0m 2ms/step - accuracy: 0.0187 - loss: 0.4000 - val_accuracy: 0.0232 - val_loss: 0.4354\n",
            "Epoch 5/300\n",
            "\u001b[1m480/480\u001b[0m \u001b[32m━━━━━━━━━━━━━━━━━━━━\u001b[0m\u001b[37m\u001b[0m \u001b[1m1s\u001b[0m 2ms/step - accuracy: 0.0272 - loss: 0.3804 - val_accuracy: 0.0376 - val_loss: 0.4335\n",
            "Epoch 6/300\n",
            "\u001b[1m480/480\u001b[0m \u001b[32m━━━━━━━━━━━━━━━━━━━━\u001b[0m\u001b[37m\u001b[0m \u001b[1m1s\u001b[0m 2ms/step - accuracy: 0.0352 - loss: 0.3719 - val_accuracy: 0.0410 - val_loss: 0.4720\n",
            "Epoch 7/300\n",
            "\u001b[1m480/480\u001b[0m \u001b[32m━━━━━━━━━━━━━━━━━━━━\u001b[0m\u001b[37m\u001b[0m \u001b[1m1s\u001b[0m 2ms/step - accuracy: 0.0448 - loss: 0.3604 - val_accuracy: 0.0359 - val_loss: 0.4405\n",
            "Epoch 8/300\n",
            "\u001b[1m480/480\u001b[0m \u001b[32m━━━━━━━━━━━━━━━━━━━━\u001b[0m\u001b[37m\u001b[0m \u001b[1m1s\u001b[0m 2ms/step - accuracy: 0.0512 - loss: 0.3559 - val_accuracy: 0.0586 - val_loss: 0.4154\n",
            "Epoch 9/300\n",
            "\u001b[1m480/480\u001b[0m \u001b[32m━━━━━━━━━━━━━━━━━━━━\u001b[0m\u001b[37m\u001b[0m \u001b[1m1s\u001b[0m 2ms/step - accuracy: 0.0629 - loss: 0.3457 - val_accuracy: 0.0488 - val_loss: 0.4401\n",
            "Epoch 10/300\n",
            "\u001b[1m480/480\u001b[0m \u001b[32m━━━━━━━━━━━━━━━━━━━━\u001b[0m\u001b[37m\u001b[0m \u001b[1m1s\u001b[0m 2ms/step - accuracy: 0.0794 - loss: 0.3385 - val_accuracy: 0.0859 - val_loss: 0.4782\n",
            "Epoch 11/300\n",
            "\u001b[1m480/480\u001b[0m \u001b[32m━━━━━━━━━━━━━━━━━━━━\u001b[0m\u001b[37m\u001b[0m \u001b[1m1s\u001b[0m 2ms/step - accuracy: 0.0838 - loss: 0.3329 - val_accuracy: 0.0718 - val_loss: 0.4481\n",
            "Epoch 12/300\n",
            "\u001b[1m480/480\u001b[0m \u001b[32m━━━━━━━━━━━━━━━━━━━━\u001b[0m\u001b[37m\u001b[0m \u001b[1m1s\u001b[0m 2ms/step - accuracy: 0.0941 - loss: 0.3292 - val_accuracy: 0.1107 - val_loss: 0.5070\n",
            "Epoch 13/300\n",
            "\u001b[1m480/480\u001b[0m \u001b[32m━━━━━━━━━━━━━━━━━━━━\u001b[0m\u001b[37m\u001b[0m \u001b[1m1s\u001b[0m 2ms/step - accuracy: 0.1061 - loss: 0.3214 - val_accuracy: 0.0953 - val_loss: 0.4772\n",
            "Epoch 14/300\n",
            "\u001b[1m480/480\u001b[0m \u001b[32m━━━━━━━━━━━━━━━━━━━━\u001b[0m\u001b[37m\u001b[0m \u001b[1m1s\u001b[0m 2ms/step - accuracy: 0.1169 - loss: 0.3194 - val_accuracy: 0.0888 - val_loss: 0.4617\n",
            "Epoch 15/300\n",
            "\u001b[1m480/480\u001b[0m \u001b[32m━━━━━━━━━━━━━━━━━━━━\u001b[0m\u001b[37m\u001b[0m \u001b[1m1s\u001b[0m 2ms/step - accuracy: 0.1342 - loss: 0.3144 - val_accuracy: 0.1149 - val_loss: 0.5273\n",
            "Epoch 16/300\n",
            "\u001b[1m480/480\u001b[0m \u001b[32m━━━━━━━━━━━━━━━━━━━━\u001b[0m\u001b[37m\u001b[0m \u001b[1m1s\u001b[0m 2ms/step - accuracy: 0.1319 - loss: 0.3173 - val_accuracy: 0.1339 - val_loss: 0.4619\n",
            "Epoch 17/300\n",
            "\u001b[1m480/480\u001b[0m \u001b[32m━━━━━━━━━━━━━━━━━━━━\u001b[0m\u001b[37m\u001b[0m \u001b[1m1s\u001b[0m 2ms/step - accuracy: 0.1494 - loss: 0.3104 - val_accuracy: 0.1159 - val_loss: 0.4588\n",
            "Epoch 18/300\n",
            "\u001b[1m480/480\u001b[0m \u001b[32m━━━━━━━━━━━━━━━━━━━━\u001b[0m\u001b[37m\u001b[0m \u001b[1m1s\u001b[0m 2ms/step - accuracy: 0.1593 - loss: 0.3062 - val_accuracy: 0.1327 - val_loss: 0.4686\n",
            "Epoch 19/300\n",
            "\u001b[1m480/480\u001b[0m \u001b[32m━━━━━━━━━━━━━━━━━━━━\u001b[0m\u001b[37m\u001b[0m \u001b[1m1s\u001b[0m 2ms/step - accuracy: 0.1662 - loss: 0.3000 - val_accuracy: 0.1511 - val_loss: 0.5205\n",
            "Epoch 20/300\n",
            "\u001b[1m480/480\u001b[0m \u001b[32m━━━━━━━━━━━━━━━━━━━━\u001b[0m\u001b[37m\u001b[0m \u001b[1m1s\u001b[0m 2ms/step - accuracy: 0.1790 - loss: 0.3011 - val_accuracy: 0.1585 - val_loss: 0.4885\n",
            "Epoch 21/300\n",
            "\u001b[1m480/480\u001b[0m \u001b[32m━━━━━━━━━━━━━━━━━━━━\u001b[0m\u001b[37m\u001b[0m \u001b[1m1s\u001b[0m 2ms/step - accuracy: 0.1847 - loss: 0.2988 - val_accuracy: 0.2341 - val_loss: 0.5564\n",
            "Epoch 22/300\n",
            "\u001b[1m480/480\u001b[0m \u001b[32m━━━━━━━━━━━━━━━━━━━━\u001b[0m\u001b[37m\u001b[0m \u001b[1m1s\u001b[0m 2ms/step - accuracy: 0.1980 - loss: 0.2940 - val_accuracy: 0.1997 - val_loss: 0.5397\n",
            "Epoch 23/300\n",
            "\u001b[1m480/480\u001b[0m \u001b[32m━━━━━━━━━━━━━━━━━━━━\u001b[0m\u001b[37m\u001b[0m \u001b[1m1s\u001b[0m 2ms/step - accuracy: 0.2108 - loss: 0.2933 - val_accuracy: 0.1800 - val_loss: 0.5354\n",
            "Epoch 24/300\n",
            "\u001b[1m480/480\u001b[0m \u001b[32m━━━━━━━━━━━━━━━━━━━━\u001b[0m\u001b[37m\u001b[0m \u001b[1m1s\u001b[0m 2ms/step - accuracy: 0.2156 - loss: 0.2869 - val_accuracy: 0.2082 - val_loss: 0.5674\n",
            "Epoch 25/300\n",
            "\u001b[1m480/480\u001b[0m \u001b[32m━━━━━━━━━━━━━━━━━━━━\u001b[0m\u001b[37m\u001b[0m \u001b[1m1s\u001b[0m 2ms/step - accuracy: 0.2211 - loss: 0.2897 - val_accuracy: 0.2045 - val_loss: 0.5662\n",
            "Epoch 26/300\n",
            "\u001b[1m480/480\u001b[0m \u001b[32m━━━━━━━━━━━━━━━━━━━━\u001b[0m\u001b[37m\u001b[0m \u001b[1m1s\u001b[0m 2ms/step - accuracy: 0.2293 - loss: 0.2877 - val_accuracy: 0.2379 - val_loss: 0.5728\n",
            "Epoch 27/300\n",
            "\u001b[1m480/480\u001b[0m \u001b[32m━━━━━━━━━━━━━━━━━━━━\u001b[0m\u001b[37m\u001b[0m \u001b[1m1s\u001b[0m 2ms/step - accuracy: 0.2291 - loss: 0.2818 - val_accuracy: 0.1955 - val_loss: 0.5258\n",
            "Epoch 28/300\n",
            "\u001b[1m480/480\u001b[0m \u001b[32m━━━━━━━━━━━━━━━━━━━━\u001b[0m\u001b[37m\u001b[0m \u001b[1m1s\u001b[0m 2ms/step - accuracy: 0.2436 - loss: 0.2798 - val_accuracy: 0.2641 - val_loss: 0.6131\n",
            "Epoch 29/300\n",
            "\u001b[1m480/480\u001b[0m \u001b[32m━━━━━━━━━━━━━━━━━━━━\u001b[0m\u001b[37m\u001b[0m \u001b[1m1s\u001b[0m 2ms/step - accuracy: 0.2468 - loss: 0.2778 - val_accuracy: 0.2238 - val_loss: 0.5502\n",
            "Epoch 30/300\n",
            "\u001b[1m480/480\u001b[0m \u001b[32m━━━━━━━━━━━━━━━━━━━━\u001b[0m\u001b[37m\u001b[0m \u001b[1m1s\u001b[0m 2ms/step - accuracy: 0.2554 - loss: 0.2741 - val_accuracy: 0.2065 - val_loss: 0.5935\n",
            "Epoch 31/300\n",
            "\u001b[1m480/480\u001b[0m \u001b[32m━━━━━━━━━━━━━━━━━━━━\u001b[0m\u001b[37m\u001b[0m \u001b[1m1s\u001b[0m 2ms/step - accuracy: 0.2623 - loss: 0.2765 - val_accuracy: 0.2855 - val_loss: 0.6248\n",
            "Epoch 32/300\n",
            "\u001b[1m480/480\u001b[0m \u001b[32m━━━━━━━━━━━━━━━━━━━━\u001b[0m\u001b[37m\u001b[0m \u001b[1m1s\u001b[0m 2ms/step - accuracy: 0.2722 - loss: 0.2753 - val_accuracy: 0.2796 - val_loss: 0.6589\n",
            "Epoch 33/300\n",
            "\u001b[1m480/480\u001b[0m \u001b[32m━━━━━━━━━━━━━━━━━━━━\u001b[0m\u001b[37m\u001b[0m \u001b[1m1s\u001b[0m 2ms/step - accuracy: 0.2733 - loss: 0.2707 - val_accuracy: 0.2488 - val_loss: 0.5926\n",
            "Epoch 34/300\n",
            "\u001b[1m480/480\u001b[0m \u001b[32m━━━━━━━━━━━━━━━━━━━━\u001b[0m\u001b[37m\u001b[0m \u001b[1m1s\u001b[0m 2ms/step - accuracy: 0.2747 - loss: 0.2733 - val_accuracy: 0.2805 - val_loss: 0.6139\n",
            "Epoch 35/300\n",
            "\u001b[1m480/480\u001b[0m \u001b[32m━━━━━━━━━━━━━━━━━━━━\u001b[0m\u001b[37m\u001b[0m \u001b[1m1s\u001b[0m 2ms/step - accuracy: 0.2736 - loss: 0.2702 - val_accuracy: 0.2763 - val_loss: 0.6648\n",
            "Epoch 36/300\n",
            "\u001b[1m480/480\u001b[0m \u001b[32m━━━━━━━━━━━━━━━━━━━━\u001b[0m\u001b[37m\u001b[0m \u001b[1m1s\u001b[0m 2ms/step - accuracy: 0.2832 - loss: 0.2668 - val_accuracy: 0.3174 - val_loss: 0.6352\n",
            "Epoch 37/300\n",
            "\u001b[1m480/480\u001b[0m \u001b[32m━━━━━━━━━━━━━━━━━━━━\u001b[0m\u001b[37m\u001b[0m \u001b[1m1s\u001b[0m 2ms/step - accuracy: 0.2936 - loss: 0.2696 - val_accuracy: 0.2589 - val_loss: 0.6213\n",
            "Epoch 38/300\n",
            "\u001b[1m480/480\u001b[0m \u001b[32m━━━━━━━━━━━━━━━━━━━━\u001b[0m\u001b[37m\u001b[0m \u001b[1m1s\u001b[0m 2ms/step - accuracy: 0.2913 - loss: 0.2615 - val_accuracy: 0.2973 - val_loss: 0.6918\n",
            "Epoch 39/300\n",
            "\u001b[1m480/480\u001b[0m \u001b[32m━━━━━━━━━━━━━━━━━━━━\u001b[0m\u001b[37m\u001b[0m \u001b[1m1s\u001b[0m 2ms/step - accuracy: 0.2974 - loss: 0.2628 - val_accuracy: 0.3126 - val_loss: 0.6737\n",
            "Epoch 40/300\n",
            "\u001b[1m480/480\u001b[0m \u001b[32m━━━━━━━━━━━━━━━━━━━━\u001b[0m\u001b[37m\u001b[0m \u001b[1m1s\u001b[0m 2ms/step - accuracy: 0.2982 - loss: 0.2609 - val_accuracy: 0.2693 - val_loss: 0.6063\n",
            "Epoch 41/300\n",
            "\u001b[1m480/480\u001b[0m \u001b[32m━━━━━━━━━━━━━━━━━━━━\u001b[0m\u001b[37m\u001b[0m \u001b[1m1s\u001b[0m 2ms/step - accuracy: 0.3031 - loss: 0.2590 - val_accuracy: 0.3058 - val_loss: 0.6538\n",
            "Epoch 42/300\n",
            "\u001b[1m480/480\u001b[0m \u001b[32m━━━━━━━━━━━━━━━━━━━━\u001b[0m\u001b[37m\u001b[0m \u001b[1m1s\u001b[0m 2ms/step - accuracy: 0.3152 - loss: 0.2598 - val_accuracy: 0.3139 - val_loss: 0.7056\n",
            "Epoch 43/300\n",
            "\u001b[1m480/480\u001b[0m \u001b[32m━━━━━━━━━━━━━━━━━━━━\u001b[0m\u001b[37m\u001b[0m \u001b[1m1s\u001b[0m 2ms/step - accuracy: 0.3180 - loss: 0.2564 - val_accuracy: 0.2925 - val_loss: 0.7103\n",
            "Epoch 44/300\n",
            "\u001b[1m480/480\u001b[0m \u001b[32m━━━━━━━━━━━━━━━━━━━━\u001b[0m\u001b[37m\u001b[0m \u001b[1m1s\u001b[0m 2ms/step - accuracy: 0.3054 - loss: 0.2529 - val_accuracy: 0.2987 - val_loss: 0.6919\n",
            "Epoch 45/300\n",
            "\u001b[1m480/480\u001b[0m \u001b[32m━━━━━━━━━━━━━━━━━━━━\u001b[0m\u001b[37m\u001b[0m \u001b[1m1s\u001b[0m 2ms/step - accuracy: 0.3174 - loss: 0.2564 - val_accuracy: 0.3308 - val_loss: 0.7288\n",
            "Epoch 46/300\n",
            "\u001b[1m480/480\u001b[0m \u001b[32m━━━━━━━━━━━━━━━━━━━━\u001b[0m\u001b[37m\u001b[0m \u001b[1m1s\u001b[0m 2ms/step - accuracy: 0.3264 - loss: 0.2515 - val_accuracy: 0.3324 - val_loss: 0.7013\n",
            "Epoch 47/300\n",
            "\u001b[1m480/480\u001b[0m \u001b[32m━━━━━━━━━━━━━━━━━━━━\u001b[0m\u001b[37m\u001b[0m \u001b[1m1s\u001b[0m 2ms/step - accuracy: 0.3264 - loss: 0.2503 - val_accuracy: 0.3361 - val_loss: 0.6755\n",
            "Epoch 48/300\n",
            "\u001b[1m480/480\u001b[0m \u001b[32m━━━━━━━━━━━━━━━━━━━━\u001b[0m\u001b[37m\u001b[0m \u001b[1m1s\u001b[0m 2ms/step - accuracy: 0.3284 - loss: 0.2487 - val_accuracy: 0.3577 - val_loss: 0.7784\n",
            "Epoch 49/300\n",
            "\u001b[1m480/480\u001b[0m \u001b[32m━━━━━━━━━━━━━━━━━━━━\u001b[0m\u001b[37m\u001b[0m \u001b[1m1s\u001b[0m 2ms/step - accuracy: 0.3295 - loss: 0.2492 - val_accuracy: 0.3377 - val_loss: 0.6865\n",
            "Epoch 50/300\n",
            "\u001b[1m480/480\u001b[0m \u001b[32m━━━━━━━━━━━━━━━━━━━━\u001b[0m\u001b[37m\u001b[0m \u001b[1m1s\u001b[0m 2ms/step - accuracy: 0.3369 - loss: 0.2485 - val_accuracy: 0.3521 - val_loss: 0.7451\n",
            "Epoch 51/300\n",
            "\u001b[1m480/480\u001b[0m \u001b[32m━━━━━━━━━━━━━━━━━━━━\u001b[0m\u001b[37m\u001b[0m \u001b[1m1s\u001b[0m 2ms/step - accuracy: 0.3435 - loss: 0.2442 - val_accuracy: 0.3193 - val_loss: 0.7459\n",
            "Epoch 52/300\n",
            "\u001b[1m480/480\u001b[0m \u001b[32m━━━━━━━━━━━━━━━━━━━━\u001b[0m\u001b[37m\u001b[0m \u001b[1m1s\u001b[0m 2ms/step - accuracy: 0.3470 - loss: 0.2438 - val_accuracy: 0.3395 - val_loss: 0.7318\n",
            "Epoch 53/300\n",
            "\u001b[1m480/480\u001b[0m \u001b[32m━━━━━━━━━━━━━━━━━━━━\u001b[0m\u001b[37m\u001b[0m \u001b[1m1s\u001b[0m 2ms/step - accuracy: 0.3478 - loss: 0.2426 - val_accuracy: 0.3322 - val_loss: 0.7206\n",
            "Epoch 54/300\n",
            "\u001b[1m480/480\u001b[0m \u001b[32m━━━━━━━━━━━━━━━━━━━━\u001b[0m\u001b[37m\u001b[0m \u001b[1m1s\u001b[0m 2ms/step - accuracy: 0.3523 - loss: 0.2407 - val_accuracy: 0.3332 - val_loss: 0.7201\n",
            "Epoch 55/300\n",
            "\u001b[1m480/480\u001b[0m \u001b[32m━━━━━━━━━━━━━━━━━━━━\u001b[0m\u001b[37m\u001b[0m \u001b[1m1s\u001b[0m 2ms/step - accuracy: 0.3506 - loss: 0.2391 - val_accuracy: 0.3231 - val_loss: 0.7537\n",
            "Epoch 56/300\n",
            "\u001b[1m480/480\u001b[0m \u001b[32m━━━━━━━━━━━━━━━━━━━━\u001b[0m\u001b[37m\u001b[0m \u001b[1m1s\u001b[0m 2ms/step - accuracy: 0.3635 - loss: 0.2399 - val_accuracy: 0.3515 - val_loss: 0.7670\n",
            "Epoch 57/300\n",
            "\u001b[1m480/480\u001b[0m \u001b[32m━━━━━━━━━━━━━━━━━━━━\u001b[0m\u001b[37m\u001b[0m \u001b[1m1s\u001b[0m 2ms/step - accuracy: 0.3633 - loss: 0.2452 - val_accuracy: 0.3371 - val_loss: 0.7570\n",
            "Epoch 58/300\n",
            "\u001b[1m480/480\u001b[0m \u001b[32m━━━━━━━━━━━━━━━━━━━━\u001b[0m\u001b[37m\u001b[0m \u001b[1m1s\u001b[0m 2ms/step - accuracy: 0.3594 - loss: 0.2367 - val_accuracy: 0.3449 - val_loss: 0.7504\n",
            "Epoch 59/300\n",
            "\u001b[1m480/480\u001b[0m \u001b[32m━━━━━━━━━━━━━━━━━━━━\u001b[0m\u001b[37m\u001b[0m \u001b[1m1s\u001b[0m 2ms/step - accuracy: 0.3510 - loss: 0.2394 - val_accuracy: 0.3228 - val_loss: 0.7165\n",
            "Epoch 60/300\n",
            "\u001b[1m480/480\u001b[0m \u001b[32m━━━━━━━━━━━━━━━━━━━━\u001b[0m\u001b[37m\u001b[0m \u001b[1m1s\u001b[0m 2ms/step - accuracy: 0.3655 - loss: 0.2385 - val_accuracy: 0.3522 - val_loss: 0.7898\n",
            "Epoch 61/300\n",
            "\u001b[1m480/480\u001b[0m \u001b[32m━━━━━━━━━━━━━━━━━━━━\u001b[0m\u001b[37m\u001b[0m \u001b[1m1s\u001b[0m 2ms/step - accuracy: 0.3670 - loss: 0.2422 - val_accuracy: 0.3551 - val_loss: 0.7769\n",
            "Epoch 62/300\n",
            "\u001b[1m480/480\u001b[0m \u001b[32m━━━━━━━━━━━━━━━━━━━━\u001b[0m\u001b[37m\u001b[0m \u001b[1m1s\u001b[0m 2ms/step - accuracy: 0.3604 - loss: 0.2330 - val_accuracy: 0.3398 - val_loss: 0.7588\n",
            "Epoch 63/300\n",
            "\u001b[1m480/480\u001b[0m \u001b[32m━━━━━━━━━━━━━━━━━━━━\u001b[0m\u001b[37m\u001b[0m \u001b[1m1s\u001b[0m 2ms/step - accuracy: 0.3651 - loss: 0.2328 - val_accuracy: 0.3632 - val_loss: 0.9071\n",
            "Epoch 64/300\n",
            "\u001b[1m480/480\u001b[0m \u001b[32m━━━━━━━━━━━━━━━━━━━━\u001b[0m\u001b[37m\u001b[0m \u001b[1m1s\u001b[0m 2ms/step - accuracy: 0.3747 - loss: 0.2330 - val_accuracy: 0.3414 - val_loss: 0.7672\n",
            "Epoch 65/300\n",
            "\u001b[1m480/480\u001b[0m \u001b[32m━━━━━━━━━━━━━━━━━━━━\u001b[0m\u001b[37m\u001b[0m \u001b[1m1s\u001b[0m 2ms/step - accuracy: 0.3746 - loss: 0.2305 - val_accuracy: 0.3609 - val_loss: 0.8418\n",
            "Epoch 66/300\n",
            "\u001b[1m480/480\u001b[0m \u001b[32m━━━━━━━━━━━━━━━━━━━━\u001b[0m\u001b[37m\u001b[0m \u001b[1m1s\u001b[0m 2ms/step - accuracy: 0.3800 - loss: 0.2309 - val_accuracy: 0.3564 - val_loss: 0.8579\n",
            "Epoch 67/300\n",
            "\u001b[1m480/480\u001b[0m \u001b[32m━━━━━━━━━━━━━━━━━━━━\u001b[0m\u001b[37m\u001b[0m \u001b[1m1s\u001b[0m 2ms/step - accuracy: 0.3778 - loss: 0.2318 - val_accuracy: 0.3733 - val_loss: 0.8081\n",
            "Epoch 68/300\n",
            "\u001b[1m480/480\u001b[0m \u001b[32m━━━━━━━━━━━━━━━━━━━━\u001b[0m\u001b[37m\u001b[0m \u001b[1m1s\u001b[0m 2ms/step - accuracy: 0.3832 - loss: 0.2303 - val_accuracy: 0.4009 - val_loss: 0.8546\n",
            "Epoch 69/300\n",
            "\u001b[1m480/480\u001b[0m \u001b[32m━━━━━━━━━━━━━━━━━━━━\u001b[0m\u001b[37m\u001b[0m \u001b[1m1s\u001b[0m 2ms/step - accuracy: 0.3862 - loss: 0.2277 - val_accuracy: 0.3832 - val_loss: 0.8215\n",
            "Epoch 70/300\n",
            "\u001b[1m480/480\u001b[0m \u001b[32m━━━━━━━━━━━━━━━━━━━━\u001b[0m\u001b[37m\u001b[0m \u001b[1m1s\u001b[0m 2ms/step - accuracy: 0.3836 - loss: 0.2278 - val_accuracy: 0.3816 - val_loss: 0.8922\n",
            "Epoch 71/300\n",
            "\u001b[1m480/480\u001b[0m \u001b[32m━━━━━━━━━━━━━━━━━━━━\u001b[0m\u001b[37m\u001b[0m \u001b[1m1s\u001b[0m 2ms/step - accuracy: 0.3811 - loss: 0.2299 - val_accuracy: 0.3805 - val_loss: 0.8622\n",
            "Epoch 72/300\n",
            "\u001b[1m480/480\u001b[0m \u001b[32m━━━━━━━━━━━━━━━━━━━━\u001b[0m\u001b[37m\u001b[0m \u001b[1m1s\u001b[0m 2ms/step - accuracy: 0.3849 - loss: 0.2247 - val_accuracy: 0.3710 - val_loss: 0.8634\n",
            "Epoch 73/300\n",
            "\u001b[1m480/480\u001b[0m \u001b[32m━━━━━━━━━━━━━━━━━━━━\u001b[0m\u001b[37m\u001b[0m \u001b[1m1s\u001b[0m 2ms/step - accuracy: 0.3896 - loss: 0.2231 - val_accuracy: 0.3715 - val_loss: 0.8743\n",
            "Epoch 74/300\n",
            "\u001b[1m480/480\u001b[0m \u001b[32m━━━━━━━━━━━━━━━━━━━━\u001b[0m\u001b[37m\u001b[0m \u001b[1m1s\u001b[0m 2ms/step - accuracy: 0.3887 - loss: 0.2238 - val_accuracy: 0.3954 - val_loss: 0.8796\n",
            "Epoch 75/300\n",
            "\u001b[1m480/480\u001b[0m \u001b[32m━━━━━━━━━━━━━━━━━━━━\u001b[0m\u001b[37m\u001b[0m \u001b[1m1s\u001b[0m 2ms/step - accuracy: 0.3942 - loss: 0.2222 - val_accuracy: 0.3900 - val_loss: 0.8686\n",
            "Epoch 76/300\n",
            "\u001b[1m480/480\u001b[0m \u001b[32m━━━━━━━━━━━━━━━━━━━━\u001b[0m\u001b[37m\u001b[0m \u001b[1m1s\u001b[0m 2ms/step - accuracy: 0.3941 - loss: 0.2201 - val_accuracy: 0.4031 - val_loss: 0.8761\n",
            "Epoch 77/300\n",
            "\u001b[1m480/480\u001b[0m \u001b[32m━━━━━━━━━━━━━━━━━━━━\u001b[0m\u001b[37m\u001b[0m \u001b[1m1s\u001b[0m 2ms/step - accuracy: 0.3929 - loss: 0.2207 - val_accuracy: 0.3575 - val_loss: 0.8028\n",
            "Epoch 78/300\n",
            "\u001b[1m480/480\u001b[0m \u001b[32m━━━━━━━━━━━━━━━━━━━━\u001b[0m\u001b[37m\u001b[0m \u001b[1m1s\u001b[0m 2ms/step - accuracy: 0.3976 - loss: 0.2245 - val_accuracy: 0.3934 - val_loss: 0.8981\n",
            "Epoch 79/300\n",
            "\u001b[1m480/480\u001b[0m \u001b[32m━━━━━━━━━━━━━━━━━━━━\u001b[0m\u001b[37m\u001b[0m \u001b[1m1s\u001b[0m 2ms/step - accuracy: 0.3960 - loss: 0.2178 - val_accuracy: 0.3768 - val_loss: 0.9237\n",
            "Epoch 80/300\n",
            "\u001b[1m480/480\u001b[0m \u001b[32m━━━━━━━━━━━━━━━━━━━━\u001b[0m\u001b[37m\u001b[0m \u001b[1m1s\u001b[0m 2ms/step - accuracy: 0.4048 - loss: 0.2240 - val_accuracy: 0.3942 - val_loss: 0.9320\n",
            "Epoch 81/300\n",
            "\u001b[1m480/480\u001b[0m \u001b[32m━━━━━━━━━━━━━━━━━━━━\u001b[0m\u001b[37m\u001b[0m \u001b[1m1s\u001b[0m 2ms/step - accuracy: 0.3989 - loss: 0.2212 - val_accuracy: 0.4011 - val_loss: 1.0011\n",
            "Epoch 82/300\n",
            "\u001b[1m480/480\u001b[0m \u001b[32m━━━━━━━━━━━━━━━━━━━━\u001b[0m\u001b[37m\u001b[0m \u001b[1m1s\u001b[0m 2ms/step - accuracy: 0.4037 - loss: 0.2191 - val_accuracy: 0.4142 - val_loss: 0.9924\n",
            "Epoch 83/300\n",
            "\u001b[1m480/480\u001b[0m \u001b[32m━━━━━━━━━━━━━━━━━━━━\u001b[0m\u001b[37m\u001b[0m \u001b[1m1s\u001b[0m 2ms/step - accuracy: 0.4131 - loss: 0.2184 - val_accuracy: 0.3938 - val_loss: 0.9582\n",
            "Epoch 84/300\n",
            "\u001b[1m480/480\u001b[0m \u001b[32m━━━━━━━━━━━━━━━━━━━━\u001b[0m\u001b[37m\u001b[0m \u001b[1m1s\u001b[0m 2ms/step - accuracy: 0.4077 - loss: 0.2161 - val_accuracy: 0.3810 - val_loss: 0.9029\n",
            "Epoch 85/300\n",
            "\u001b[1m480/480\u001b[0m \u001b[32m━━━━━━━━━━━━━━━━━━━━\u001b[0m\u001b[37m\u001b[0m \u001b[1m1s\u001b[0m 2ms/step - accuracy: 0.4106 - loss: 0.2163 - val_accuracy: 0.3882 - val_loss: 0.8767\n",
            "Epoch 86/300\n",
            "\u001b[1m480/480\u001b[0m \u001b[32m━━━━━━━━━━━━━━━━━━━━\u001b[0m\u001b[37m\u001b[0m \u001b[1m1s\u001b[0m 2ms/step - accuracy: 0.4113 - loss: 0.2138 - val_accuracy: 0.4094 - val_loss: 1.0262\n",
            "Epoch 87/300\n",
            "\u001b[1m480/480\u001b[0m \u001b[32m━━━━━━━━━━━━━━━━━━━━\u001b[0m\u001b[37m\u001b[0m \u001b[1m1s\u001b[0m 2ms/step - accuracy: 0.4133 - loss: 0.2150 - val_accuracy: 0.4474 - val_loss: 1.0771\n",
            "Epoch 88/300\n",
            "\u001b[1m480/480\u001b[0m \u001b[32m━━━━━━━━━━━━━━━━━━━━\u001b[0m\u001b[37m\u001b[0m \u001b[1m1s\u001b[0m 2ms/step - accuracy: 0.4155 - loss: 0.2157 - val_accuracy: 0.4085 - val_loss: 1.0130\n",
            "Epoch 89/300\n",
            "\u001b[1m480/480\u001b[0m \u001b[32m━━━━━━━━━━━━━━━━━━━━\u001b[0m\u001b[37m\u001b[0m \u001b[1m1s\u001b[0m 2ms/step - accuracy: 0.4141 - loss: 0.2108 - val_accuracy: 0.4321 - val_loss: 1.0755\n",
            "Epoch 90/300\n",
            "\u001b[1m480/480\u001b[0m \u001b[32m━━━━━━━━━━━━━━━━━━━━\u001b[0m\u001b[37m\u001b[0m \u001b[1m1s\u001b[0m 2ms/step - accuracy: 0.4239 - loss: 0.2117 - val_accuracy: 0.4319 - val_loss: 1.1132\n",
            "Epoch 91/300\n",
            "\u001b[1m480/480\u001b[0m \u001b[32m━━━━━━━━━━━━━━━━━━━━\u001b[0m\u001b[37m\u001b[0m \u001b[1m1s\u001b[0m 2ms/step - accuracy: 0.4191 - loss: 0.2131 - val_accuracy: 0.3957 - val_loss: 1.0129\n",
            "Epoch 92/300\n",
            "\u001b[1m480/480\u001b[0m \u001b[32m━━━━━━━━━━━━━━━━━━━━\u001b[0m\u001b[37m\u001b[0m \u001b[1m1s\u001b[0m 2ms/step - accuracy: 0.4216 - loss: 0.2161 - val_accuracy: 0.4200 - val_loss: 1.0441\n",
            "Epoch 93/300\n",
            "\u001b[1m480/480\u001b[0m \u001b[32m━━━━━━━━━━━━━━━━━━━━\u001b[0m\u001b[37m\u001b[0m \u001b[1m1s\u001b[0m 2ms/step - accuracy: 0.4184 - loss: 0.2099 - val_accuracy: 0.4619 - val_loss: 1.1388\n",
            "Epoch 94/300\n",
            "\u001b[1m480/480\u001b[0m \u001b[32m━━━━━━━━━━━━━━━━━━━━\u001b[0m\u001b[37m\u001b[0m \u001b[1m1s\u001b[0m 2ms/step - accuracy: 0.4220 - loss: 0.2118 - val_accuracy: 0.4046 - val_loss: 1.0175\n",
            "Epoch 95/300\n",
            "\u001b[1m480/480\u001b[0m \u001b[32m━━━━━━━━━━━━━━━━━━━━\u001b[0m\u001b[37m\u001b[0m \u001b[1m1s\u001b[0m 2ms/step - accuracy: 0.4184 - loss: 0.2132 - val_accuracy: 0.3998 - val_loss: 0.9898\n",
            "Epoch 96/300\n",
            "\u001b[1m480/480\u001b[0m \u001b[32m━━━━━━━━━━━━━━━━━━━━\u001b[0m\u001b[37m\u001b[0m \u001b[1m1s\u001b[0m 2ms/step - accuracy: 0.4236 - loss: 0.2073 - val_accuracy: 0.3967 - val_loss: 1.0342\n",
            "Epoch 97/300\n",
            "\u001b[1m480/480\u001b[0m \u001b[32m━━━━━━━━━━━━━━━━━━━━\u001b[0m\u001b[37m\u001b[0m \u001b[1m1s\u001b[0m 2ms/step - accuracy: 0.4215 - loss: 0.2094 - val_accuracy: 0.4173 - val_loss: 1.0443\n",
            "Epoch 98/300\n",
            "\u001b[1m480/480\u001b[0m \u001b[32m━━━━━━━━━━━━━━━━━━━━\u001b[0m\u001b[37m\u001b[0m \u001b[1m1s\u001b[0m 2ms/step - accuracy: 0.4234 - loss: 0.2103 - val_accuracy: 0.4051 - val_loss: 0.9848\n",
            "Epoch 99/300\n",
            "\u001b[1m480/480\u001b[0m \u001b[32m━━━━━━━━━━━━━━━━━━━━\u001b[0m\u001b[37m\u001b[0m \u001b[1m1s\u001b[0m 2ms/step - accuracy: 0.4215 - loss: 0.2108 - val_accuracy: 0.4315 - val_loss: 1.0525\n",
            "Epoch 100/300\n",
            "\u001b[1m480/480\u001b[0m \u001b[32m━━━━━━━━━━━━━━━━━━━━\u001b[0m\u001b[37m\u001b[0m \u001b[1m1s\u001b[0m 2ms/step - accuracy: 0.4296 - loss: 0.2101 - val_accuracy: 0.4200 - val_loss: 1.0254\n",
            "Epoch 101/300\n",
            "\u001b[1m480/480\u001b[0m \u001b[32m━━━━━━━━━━━━━━━━━━━━\u001b[0m\u001b[37m\u001b[0m \u001b[1m1s\u001b[0m 2ms/step - accuracy: 0.4309 - loss: 0.2054 - val_accuracy: 0.4101 - val_loss: 1.0376\n",
            "Epoch 102/300\n",
            "\u001b[1m480/480\u001b[0m \u001b[32m━━━━━━━━━━━━━━━━━━━━\u001b[0m\u001b[37m\u001b[0m \u001b[1m1s\u001b[0m 2ms/step - accuracy: 0.4295 - loss: 0.2040 - val_accuracy: 0.4424 - val_loss: 1.1046\n",
            "Epoch 103/300\n",
            "\u001b[1m480/480\u001b[0m \u001b[32m━━━━━━━━━━━━━━━━━━━━\u001b[0m\u001b[37m\u001b[0m \u001b[1m1s\u001b[0m 2ms/step - accuracy: 0.4343 - loss: 0.2078 - val_accuracy: 0.4292 - val_loss: 1.1291\n",
            "Epoch 104/300\n",
            "\u001b[1m480/480\u001b[0m \u001b[32m━━━━━━━━━━━━━━━━━━━━\u001b[0m\u001b[37m\u001b[0m \u001b[1m1s\u001b[0m 2ms/step - accuracy: 0.4324 - loss: 0.2114 - val_accuracy: 0.4500 - val_loss: 1.1464\n",
            "Epoch 105/300\n",
            "\u001b[1m480/480\u001b[0m \u001b[32m━━━━━━━━━━━━━━━━━━━━\u001b[0m\u001b[37m\u001b[0m \u001b[1m1s\u001b[0m 2ms/step - accuracy: 0.4357 - loss: 0.2053 - val_accuracy: 0.4139 - val_loss: 1.0472\n",
            "Epoch 106/300\n",
            "\u001b[1m480/480\u001b[0m \u001b[32m━━━━━━━━━━━━━━━━━━━━\u001b[0m\u001b[37m\u001b[0m \u001b[1m1s\u001b[0m 2ms/step - accuracy: 0.4317 - loss: 0.2070 - val_accuracy: 0.4262 - val_loss: 1.0219\n",
            "Epoch 107/300\n",
            "\u001b[1m480/480\u001b[0m \u001b[32m━━━━━━━━━━━━━━━━━━━━\u001b[0m\u001b[37m\u001b[0m \u001b[1m1s\u001b[0m 2ms/step - accuracy: 0.4318 - loss: 0.2085 - val_accuracy: 0.4237 - val_loss: 1.0435\n",
            "Epoch 108/300\n",
            "\u001b[1m480/480\u001b[0m \u001b[32m━━━━━━━━━━━━━━━━━━━━\u001b[0m\u001b[37m\u001b[0m \u001b[1m1s\u001b[0m 2ms/step - accuracy: 0.4327 - loss: 0.2057 - val_accuracy: 0.4487 - val_loss: 1.1942\n",
            "Epoch 109/300\n",
            "\u001b[1m480/480\u001b[0m \u001b[32m━━━━━━━━━━━━━━━━━━━━\u001b[0m\u001b[37m\u001b[0m \u001b[1m1s\u001b[0m 2ms/step - accuracy: 0.4404 - loss: 0.2048 - val_accuracy: 0.4232 - val_loss: 1.0946\n",
            "Epoch 110/300\n",
            "\u001b[1m480/480\u001b[0m \u001b[32m━━━━━━━━━━━━━━━━━━━━\u001b[0m\u001b[37m\u001b[0m \u001b[1m1s\u001b[0m 2ms/step - accuracy: 0.4387 - loss: 0.2044 - val_accuracy: 0.4267 - val_loss: 1.0668\n",
            "Epoch 111/300\n",
            "\u001b[1m480/480\u001b[0m \u001b[32m━━━━━━━━━━━━━━━━━━━━\u001b[0m\u001b[37m\u001b[0m \u001b[1m1s\u001b[0m 2ms/step - accuracy: 0.4428 - loss: 0.2043 - val_accuracy: 0.4531 - val_loss: 1.1423\n",
            "Epoch 112/300\n",
            "\u001b[1m480/480\u001b[0m \u001b[32m━━━━━━━━━━━━━━━━━━━━\u001b[0m\u001b[37m\u001b[0m \u001b[1m1s\u001b[0m 2ms/step - accuracy: 0.4427 - loss: 0.2011 - val_accuracy: 0.4369 - val_loss: 1.2075\n",
            "Epoch 113/300\n",
            "\u001b[1m480/480\u001b[0m \u001b[32m━━━━━━━━━━━━━━━━━━━━\u001b[0m\u001b[37m\u001b[0m \u001b[1m1s\u001b[0m 2ms/step - accuracy: 0.4420 - loss: 0.2047 - val_accuracy: 0.3968 - val_loss: 1.0169\n",
            "Epoch 114/300\n",
            "\u001b[1m480/480\u001b[0m \u001b[32m━━━━━━━━━━━━━━━━━━━━\u001b[0m\u001b[37m\u001b[0m \u001b[1m1s\u001b[0m 2ms/step - accuracy: 0.4435 - loss: 0.1997 - val_accuracy: 0.4225 - val_loss: 1.1308\n",
            "Epoch 115/300\n",
            "\u001b[1m480/480\u001b[0m \u001b[32m━━━━━━━━━━━━━━━━━━━━\u001b[0m\u001b[37m\u001b[0m \u001b[1m1s\u001b[0m 2ms/step - accuracy: 0.4460 - loss: 0.2022 - val_accuracy: 0.4399 - val_loss: 1.1128\n",
            "Epoch 116/300\n",
            "\u001b[1m480/480\u001b[0m \u001b[32m━━━━━━━━━━━━━━━━━━━━\u001b[0m\u001b[37m\u001b[0m \u001b[1m1s\u001b[0m 2ms/step - accuracy: 0.4468 - loss: 0.1969 - val_accuracy: 0.4459 - val_loss: 1.1103\n",
            "Epoch 117/300\n",
            "\u001b[1m480/480\u001b[0m \u001b[32m━━━━━━━━━━━━━━━━━━━━\u001b[0m\u001b[37m\u001b[0m \u001b[1m1s\u001b[0m 2ms/step - accuracy: 0.4451 - loss: 0.2002 - val_accuracy: 0.4304 - val_loss: 1.1490\n",
            "Epoch 118/300\n",
            "\u001b[1m480/480\u001b[0m \u001b[32m━━━━━━━━━━━━━━━━━━━━\u001b[0m\u001b[37m\u001b[0m \u001b[1m1s\u001b[0m 2ms/step - accuracy: 0.4427 - loss: 0.1984 - val_accuracy: 0.4627 - val_loss: 1.2477\n",
            "Epoch 119/300\n",
            "\u001b[1m480/480\u001b[0m \u001b[32m━━━━━━━━━━━━━━━━━━━━\u001b[0m\u001b[37m\u001b[0m \u001b[1m1s\u001b[0m 2ms/step - accuracy: 0.4423 - loss: 0.2005 - val_accuracy: 0.4453 - val_loss: 1.1395\n",
            "Epoch 120/300\n",
            "\u001b[1m480/480\u001b[0m \u001b[32m━━━━━━━━━━━━━━━━━━━━\u001b[0m\u001b[37m\u001b[0m \u001b[1m1s\u001b[0m 2ms/step - accuracy: 0.4452 - loss: 0.2004 - val_accuracy: 0.4316 - val_loss: 1.1820\n",
            "Epoch 121/300\n",
            "\u001b[1m480/480\u001b[0m \u001b[32m━━━━━━━━━━━━━━━━━━━━\u001b[0m\u001b[37m\u001b[0m \u001b[1m1s\u001b[0m 2ms/step - accuracy: 0.4485 - loss: 0.1953 - val_accuracy: 0.4472 - val_loss: 1.1348\n",
            "Epoch 122/300\n",
            "\u001b[1m480/480\u001b[0m \u001b[32m━━━━━━━━━━━━━━━━━━━━\u001b[0m\u001b[37m\u001b[0m \u001b[1m1s\u001b[0m 2ms/step - accuracy: 0.4544 - loss: 0.1986 - val_accuracy: 0.4646 - val_loss: 1.2055\n",
            "Epoch 123/300\n",
            "\u001b[1m480/480\u001b[0m \u001b[32m━━━━━━━━━━━━━━━━━━━━\u001b[0m\u001b[37m\u001b[0m \u001b[1m1s\u001b[0m 2ms/step - accuracy: 0.4460 - loss: 0.1975 - val_accuracy: 0.4596 - val_loss: 1.1902\n",
            "Epoch 124/300\n",
            "\u001b[1m480/480\u001b[0m \u001b[32m━━━━━━━━━━━━━━━━━━━━\u001b[0m\u001b[37m\u001b[0m \u001b[1m1s\u001b[0m 2ms/step - accuracy: 0.4439 - loss: 0.1955 - val_accuracy: 0.4551 - val_loss: 1.1444\n",
            "Epoch 125/300\n",
            "\u001b[1m480/480\u001b[0m \u001b[32m━━━━━━━━━━━━━━━━━━━━\u001b[0m\u001b[37m\u001b[0m \u001b[1m1s\u001b[0m 2ms/step - accuracy: 0.4452 - loss: 0.1931 - val_accuracy: 0.4443 - val_loss: 1.1970\n",
            "Epoch 126/300\n",
            "\u001b[1m480/480\u001b[0m \u001b[32m━━━━━━━━━━━━━━━━━━━━\u001b[0m\u001b[37m\u001b[0m \u001b[1m1s\u001b[0m 2ms/step - accuracy: 0.4434 - loss: 0.1982 - val_accuracy: 0.4481 - val_loss: 1.1275\n",
            "Epoch 127/300\n",
            "\u001b[1m480/480\u001b[0m \u001b[32m━━━━━━━━━━━━━━━━━━━━\u001b[0m\u001b[37m\u001b[0m \u001b[1m1s\u001b[0m 2ms/step - accuracy: 0.4542 - loss: 0.1948 - val_accuracy: 0.4527 - val_loss: 1.2050\n",
            "Epoch 128/300\n",
            "\u001b[1m480/480\u001b[0m \u001b[32m━━━━━━━━━━━━━━━━━━━━\u001b[0m\u001b[37m\u001b[0m \u001b[1m1s\u001b[0m 2ms/step - accuracy: 0.4517 - loss: 0.1963 - val_accuracy: 0.4480 - val_loss: 1.1348\n",
            "Epoch 129/300\n",
            "\u001b[1m480/480\u001b[0m \u001b[32m━━━━━━━━━━━━━━━━━━━━\u001b[0m\u001b[37m\u001b[0m \u001b[1m1s\u001b[0m 2ms/step - accuracy: 0.4560 - loss: 0.1961 - val_accuracy: 0.4339 - val_loss: 1.1455\n",
            "Epoch 130/300\n",
            "\u001b[1m480/480\u001b[0m \u001b[32m━━━━━━━━━━━━━━━━━━━━\u001b[0m\u001b[37m\u001b[0m \u001b[1m1s\u001b[0m 2ms/step - accuracy: 0.4591 - loss: 0.1995 - val_accuracy: 0.4217 - val_loss: 1.1999\n",
            "Epoch 131/300\n",
            "\u001b[1m480/480\u001b[0m \u001b[32m━━━━━━━━━━━━━━━━━━━━\u001b[0m\u001b[37m\u001b[0m \u001b[1m1s\u001b[0m 2ms/step - accuracy: 0.4551 - loss: 0.1939 - val_accuracy: 0.4722 - val_loss: 1.2427\n",
            "Epoch 132/300\n",
            "\u001b[1m480/480\u001b[0m \u001b[32m━━━━━━━━━━━━━━━━━━━━\u001b[0m\u001b[37m\u001b[0m \u001b[1m1s\u001b[0m 2ms/step - accuracy: 0.4597 - loss: 0.1950 - val_accuracy: 0.4447 - val_loss: 1.1756\n",
            "Epoch 133/300\n",
            "\u001b[1m480/480\u001b[0m \u001b[32m━━━━━━━━━━━━━━━━━━━━\u001b[0m\u001b[37m\u001b[0m \u001b[1m1s\u001b[0m 2ms/step - accuracy: 0.4516 - loss: 0.1947 - val_accuracy: 0.4322 - val_loss: 1.1136\n",
            "Epoch 134/300\n",
            "\u001b[1m480/480\u001b[0m \u001b[32m━━━━━━━━━━━━━━━━━━━━\u001b[0m\u001b[37m\u001b[0m \u001b[1m1s\u001b[0m 2ms/step - accuracy: 0.4545 - loss: 0.1905 - val_accuracy: 0.4335 - val_loss: 1.1860\n",
            "Epoch 135/300\n",
            "\u001b[1m480/480\u001b[0m \u001b[32m━━━━━━━━━━━━━━━━━━━━\u001b[0m\u001b[37m\u001b[0m \u001b[1m1s\u001b[0m 2ms/step - accuracy: 0.4569 - loss: 0.1910 - val_accuracy: 0.4164 - val_loss: 1.1547\n",
            "Epoch 136/300\n",
            "\u001b[1m480/480\u001b[0m \u001b[32m━━━━━━━━━━━━━━━━━━━━\u001b[0m\u001b[37m\u001b[0m \u001b[1m1s\u001b[0m 2ms/step - accuracy: 0.4619 - loss: 0.1915 - val_accuracy: 0.4750 - val_loss: 1.3359\n",
            "Epoch 137/300\n",
            "\u001b[1m480/480\u001b[0m \u001b[32m━━━━━━━━━━━━━━━━━━━━\u001b[0m\u001b[37m\u001b[0m \u001b[1m1s\u001b[0m 2ms/step - accuracy: 0.4566 - loss: 0.1904 - val_accuracy: 0.4540 - val_loss: 1.2617\n",
            "Epoch 138/300\n",
            "\u001b[1m480/480\u001b[0m \u001b[32m━━━━━━━━━━━━━━━━━━━━\u001b[0m\u001b[37m\u001b[0m \u001b[1m1s\u001b[0m 2ms/step - accuracy: 0.4592 - loss: 0.1893 - val_accuracy: 0.4390 - val_loss: 1.2111\n",
            "Epoch 139/300\n",
            "\u001b[1m480/480\u001b[0m \u001b[32m━━━━━━━━━━━━━━━━━━━━\u001b[0m\u001b[37m\u001b[0m \u001b[1m1s\u001b[0m 2ms/step - accuracy: 0.4662 - loss: 0.1916 - val_accuracy: 0.4523 - val_loss: 1.2348\n",
            "Epoch 140/300\n",
            "\u001b[1m480/480\u001b[0m \u001b[32m━━━━━━━━━━━━━━━━━━━━\u001b[0m\u001b[37m\u001b[0m \u001b[1m1s\u001b[0m 2ms/step - accuracy: 0.4656 - loss: 0.1913 - val_accuracy: 0.4464 - val_loss: 1.1606\n",
            "Epoch 141/300\n",
            "\u001b[1m480/480\u001b[0m \u001b[32m━━━━━━━━━━━━━━━━━━━━\u001b[0m\u001b[37m\u001b[0m \u001b[1m1s\u001b[0m 2ms/step - accuracy: 0.4614 - loss: 0.1939 - val_accuracy: 0.4489 - val_loss: 1.2758\n",
            "Epoch 142/300\n",
            "\u001b[1m480/480\u001b[0m \u001b[32m━━━━━━━━━━━━━━━━━━━━\u001b[0m\u001b[37m\u001b[0m \u001b[1m1s\u001b[0m 2ms/step - accuracy: 0.4596 - loss: 0.1905 - val_accuracy: 0.4617 - val_loss: 1.2183\n",
            "Epoch 143/300\n",
            "\u001b[1m480/480\u001b[0m \u001b[32m━━━━━━━━━━━━━━━━━━━━\u001b[0m\u001b[37m\u001b[0m \u001b[1m1s\u001b[0m 2ms/step - accuracy: 0.4582 - loss: 0.1913 - val_accuracy: 0.4481 - val_loss: 1.1747\n",
            "Epoch 144/300\n",
            "\u001b[1m480/480\u001b[0m \u001b[32m━━━━━━━━━━━━━━━━━━━━\u001b[0m\u001b[37m\u001b[0m \u001b[1m1s\u001b[0m 2ms/step - accuracy: 0.4653 - loss: 0.1900 - val_accuracy: 0.4512 - val_loss: 1.1986\n",
            "Epoch 145/300\n",
            "\u001b[1m480/480\u001b[0m \u001b[32m━━━━━━━━━━━━━━━━━━━━\u001b[0m\u001b[37m\u001b[0m \u001b[1m1s\u001b[0m 2ms/step - accuracy: 0.4648 - loss: 0.1873 - val_accuracy: 0.4582 - val_loss: 1.3287\n",
            "Epoch 146/300\n",
            "\u001b[1m480/480\u001b[0m \u001b[32m━━━━━━━━━━━━━━━━━━━━\u001b[0m\u001b[37m\u001b[0m \u001b[1m1s\u001b[0m 2ms/step - accuracy: 0.4630 - loss: 0.1916 - val_accuracy: 0.4330 - val_loss: 1.2319\n",
            "Epoch 147/300\n",
            "\u001b[1m480/480\u001b[0m \u001b[32m━━━━━━━━━━━━━━━━━━━━\u001b[0m\u001b[37m\u001b[0m \u001b[1m1s\u001b[0m 2ms/step - accuracy: 0.4656 - loss: 0.1890 - val_accuracy: 0.4723 - val_loss: 1.3208\n",
            "Epoch 148/300\n",
            "\u001b[1m480/480\u001b[0m \u001b[32m━━━━━━━━━━━━━━━━━━━━\u001b[0m\u001b[37m\u001b[0m \u001b[1m1s\u001b[0m 2ms/step - accuracy: 0.4631 - loss: 0.1878 - val_accuracy: 0.4774 - val_loss: 1.2809\n",
            "Epoch 149/300\n",
            "\u001b[1m480/480\u001b[0m \u001b[32m━━━━━━━━━━━━━━━━━━━━\u001b[0m\u001b[37m\u001b[0m \u001b[1m1s\u001b[0m 2ms/step - accuracy: 0.4654 - loss: 0.1856 - val_accuracy: 0.4590 - val_loss: 1.2787\n",
            "Epoch 150/300\n",
            "\u001b[1m480/480\u001b[0m \u001b[32m━━━━━━━━━━━━━━━━━━━━\u001b[0m\u001b[37m\u001b[0m \u001b[1m1s\u001b[0m 2ms/step - accuracy: 0.4625 - loss: 0.1904 - val_accuracy: 0.4803 - val_loss: 1.3708\n",
            "Epoch 151/300\n",
            "\u001b[1m480/480\u001b[0m \u001b[32m━━━━━━━━━━━━━━━━━━━━\u001b[0m\u001b[37m\u001b[0m \u001b[1m1s\u001b[0m 2ms/step - accuracy: 0.4673 - loss: 0.1880 - val_accuracy: 0.4617 - val_loss: 1.2314\n",
            "Epoch 152/300\n",
            "\u001b[1m480/480\u001b[0m \u001b[32m━━━━━━━━━━━━━━━━━━━━\u001b[0m\u001b[37m\u001b[0m \u001b[1m1s\u001b[0m 2ms/step - accuracy: 0.4731 - loss: 0.1878 - val_accuracy: 0.4625 - val_loss: 1.3454\n",
            "Epoch 153/300\n",
            "\u001b[1m480/480\u001b[0m \u001b[32m━━━━━━━━━━━━━━━━━━━━\u001b[0m\u001b[37m\u001b[0m \u001b[1m1s\u001b[0m 2ms/step - accuracy: 0.4725 - loss: 0.1874 - val_accuracy: 0.4582 - val_loss: 1.3171\n",
            "Epoch 154/300\n",
            "\u001b[1m480/480\u001b[0m \u001b[32m━━━━━━━━━━━━━━━━━━━━\u001b[0m\u001b[37m\u001b[0m \u001b[1m1s\u001b[0m 2ms/step - accuracy: 0.4726 - loss: 0.1868 - val_accuracy: 0.4600 - val_loss: 1.3267\n",
            "Epoch 155/300\n",
            "\u001b[1m480/480\u001b[0m \u001b[32m━━━━━━━━━━━━━━━━━━━━\u001b[0m\u001b[37m\u001b[0m \u001b[1m1s\u001b[0m 2ms/step - accuracy: 0.4708 - loss: 0.1843 - val_accuracy: 0.4694 - val_loss: 1.3917\n",
            "Epoch 156/300\n",
            "\u001b[1m480/480\u001b[0m \u001b[32m━━━━━━━━━━━━━━━━━━━━\u001b[0m\u001b[37m\u001b[0m \u001b[1m1s\u001b[0m 2ms/step - accuracy: 0.4743 - loss: 0.1874 - val_accuracy: 0.4983 - val_loss: 1.3514\n",
            "Epoch 157/300\n",
            "\u001b[1m480/480\u001b[0m \u001b[32m━━━━━━━━━━━━━━━━━━━━\u001b[0m\u001b[37m\u001b[0m \u001b[1m1s\u001b[0m 2ms/step - accuracy: 0.4817 - loss: 0.1878 - val_accuracy: 0.4741 - val_loss: 1.2972\n",
            "Epoch 158/300\n",
            "\u001b[1m480/480\u001b[0m \u001b[32m━━━━━━━━━━━━━━━━━━━━\u001b[0m\u001b[37m\u001b[0m \u001b[1m1s\u001b[0m 2ms/step - accuracy: 0.4766 - loss: 0.1835 - val_accuracy: 0.4608 - val_loss: 1.3183\n",
            "Epoch 159/300\n",
            "\u001b[1m480/480\u001b[0m \u001b[32m━━━━━━━━━━━━━━━━━━━━\u001b[0m\u001b[37m\u001b[0m \u001b[1m1s\u001b[0m 2ms/step - accuracy: 0.4728 - loss: 0.1846 - val_accuracy: 0.4578 - val_loss: 1.3365\n",
            "Epoch 160/300\n",
            "\u001b[1m480/480\u001b[0m \u001b[32m━━━━━━━━━━━━━━━━━━━━\u001b[0m\u001b[37m\u001b[0m \u001b[1m1s\u001b[0m 2ms/step - accuracy: 0.4812 - loss: 0.1808 - val_accuracy: 0.4605 - val_loss: 1.2758\n",
            "Epoch 161/300\n",
            "\u001b[1m480/480\u001b[0m \u001b[32m━━━━━━━━━━━━━━━━━━━━\u001b[0m\u001b[37m\u001b[0m \u001b[1m1s\u001b[0m 2ms/step - accuracy: 0.4764 - loss: 0.1824 - val_accuracy: 0.4499 - val_loss: 1.2804\n",
            "Epoch 162/300\n",
            "\u001b[1m480/480\u001b[0m \u001b[32m━━━━━━━━━━━━━━━━━━━━\u001b[0m\u001b[37m\u001b[0m \u001b[1m1s\u001b[0m 2ms/step - accuracy: 0.4816 - loss: 0.1852 - val_accuracy: 0.4765 - val_loss: 1.3373\n",
            "Epoch 163/300\n",
            "\u001b[1m480/480\u001b[0m \u001b[32m━━━━━━━━━━━━━━━━━━━━\u001b[0m\u001b[37m\u001b[0m \u001b[1m1s\u001b[0m 2ms/step - accuracy: 0.4864 - loss: 0.1802 - val_accuracy: 0.4933 - val_loss: 1.3543\n",
            "Epoch 164/300\n",
            "\u001b[1m480/480\u001b[0m \u001b[32m━━━━━━━━━━━━━━━━━━━━\u001b[0m\u001b[37m\u001b[0m \u001b[1m1s\u001b[0m 2ms/step - accuracy: 0.4871 - loss: 0.1802 - val_accuracy: 0.4681 - val_loss: 1.3091\n",
            "Epoch 165/300\n",
            "\u001b[1m480/480\u001b[0m \u001b[32m━━━━━━━━━━━━━━━━━━━━\u001b[0m\u001b[37m\u001b[0m \u001b[1m1s\u001b[0m 2ms/step - accuracy: 0.4853 - loss: 0.1802 - val_accuracy: 0.4695 - val_loss: 1.3288\n",
            "Epoch 166/300\n",
            "\u001b[1m480/480\u001b[0m \u001b[32m━━━━━━━━━━━━━━━━━━━━\u001b[0m\u001b[37m\u001b[0m \u001b[1m1s\u001b[0m 2ms/step - accuracy: 0.4837 - loss: 0.1865 - val_accuracy: 0.4610 - val_loss: 1.3275\n",
            "Epoch 167/300\n",
            "\u001b[1m480/480\u001b[0m \u001b[32m━━━━━━━━━━━━━━━━━━━━\u001b[0m\u001b[37m\u001b[0m \u001b[1m1s\u001b[0m 2ms/step - accuracy: 0.4853 - loss: 0.1805 - val_accuracy: 0.4541 - val_loss: 1.3172\n",
            "Epoch 168/300\n",
            "\u001b[1m480/480\u001b[0m \u001b[32m━━━━━━━━━━━━━━━━━━━━\u001b[0m\u001b[37m\u001b[0m \u001b[1m1s\u001b[0m 2ms/step - accuracy: 0.4895 - loss: 0.1825 - val_accuracy: 0.4881 - val_loss: 1.3556\n",
            "Epoch 169/300\n",
            "\u001b[1m480/480\u001b[0m \u001b[32m━━━━━━━━━━━━━━━━━━━━\u001b[0m\u001b[37m\u001b[0m \u001b[1m1s\u001b[0m 2ms/step - accuracy: 0.4841 - loss: 0.1816 - val_accuracy: 0.4801 - val_loss: 1.4393\n",
            "Epoch 170/300\n",
            "\u001b[1m480/480\u001b[0m \u001b[32m━━━━━━━━━━━━━━━━━━━━\u001b[0m\u001b[37m\u001b[0m \u001b[1m1s\u001b[0m 2ms/step - accuracy: 0.4845 - loss: 0.1801 - val_accuracy: 0.4507 - val_loss: 1.2911\n",
            "Epoch 171/300\n",
            "\u001b[1m480/480\u001b[0m \u001b[32m━━━━━━━━━━━━━━━━━━━━\u001b[0m\u001b[37m\u001b[0m \u001b[1m1s\u001b[0m 2ms/step - accuracy: 0.4850 - loss: 0.1826 - val_accuracy: 0.4709 - val_loss: 1.3318\n",
            "Epoch 172/300\n",
            "\u001b[1m480/480\u001b[0m \u001b[32m━━━━━━━━━━━━━━━━━━━━\u001b[0m\u001b[37m\u001b[0m \u001b[1m1s\u001b[0m 2ms/step - accuracy: 0.4878 - loss: 0.1791 - val_accuracy: 0.4635 - val_loss: 1.3062\n",
            "Epoch 173/300\n",
            "\u001b[1m480/480\u001b[0m \u001b[32m━━━━━━━━━━━━━━━━━━━━\u001b[0m\u001b[37m\u001b[0m \u001b[1m1s\u001b[0m 2ms/step - accuracy: 0.4900 - loss: 0.1777 - val_accuracy: 0.4820 - val_loss: 1.3502\n",
            "Epoch 174/300\n",
            "\u001b[1m480/480\u001b[0m \u001b[32m━━━━━━━━━━━━━━━━━━━━\u001b[0m\u001b[37m\u001b[0m \u001b[1m1s\u001b[0m 2ms/step - accuracy: 0.4893 - loss: 0.1806 - val_accuracy: 0.4606 - val_loss: 1.3357\n",
            "Epoch 175/300\n",
            "\u001b[1m480/480\u001b[0m \u001b[32m━━━━━━━━━━━━━━━━━━━━\u001b[0m\u001b[37m\u001b[0m \u001b[1m1s\u001b[0m 2ms/step - accuracy: 0.4930 - loss: 0.1763 - val_accuracy: 0.4909 - val_loss: 1.4737\n",
            "Epoch 176/300\n",
            "\u001b[1m480/480\u001b[0m \u001b[32m━━━━━━━━━━━━━━━━━━━━\u001b[0m\u001b[37m\u001b[0m \u001b[1m1s\u001b[0m 2ms/step - accuracy: 0.4928 - loss: 0.1766 - val_accuracy: 0.4770 - val_loss: 1.3823\n",
            "Epoch 177/300\n",
            "\u001b[1m480/480\u001b[0m \u001b[32m━━━━━━━━━━━━━━━━━━━━\u001b[0m\u001b[37m\u001b[0m \u001b[1m1s\u001b[0m 2ms/step - accuracy: 0.4969 - loss: 0.1793 - val_accuracy: 0.4862 - val_loss: 1.4487\n",
            "Epoch 178/300\n",
            "\u001b[1m480/480\u001b[0m \u001b[32m━━━━━━━━━━━━━━━━━━━━\u001b[0m\u001b[37m\u001b[0m \u001b[1m1s\u001b[0m 2ms/step - accuracy: 0.4908 - loss: 0.1780 - val_accuracy: 0.4781 - val_loss: 1.4737\n",
            "Epoch 179/300\n",
            "\u001b[1m480/480\u001b[0m \u001b[32m━━━━━━━━━━━━━━━━━━━━\u001b[0m\u001b[37m\u001b[0m \u001b[1m1s\u001b[0m 2ms/step - accuracy: 0.4883 - loss: 0.1758 - val_accuracy: 0.4906 - val_loss: 1.4050\n",
            "Epoch 180/300\n",
            "\u001b[1m480/480\u001b[0m \u001b[32m━━━━━━━━━━━━━━━━━━━━\u001b[0m\u001b[37m\u001b[0m \u001b[1m1s\u001b[0m 2ms/step - accuracy: 0.4957 - loss: 0.1794 - val_accuracy: 0.4670 - val_loss: 1.4975\n",
            "Epoch 181/300\n",
            "\u001b[1m480/480\u001b[0m \u001b[32m━━━━━━━━━━━━━━━━━━━━\u001b[0m\u001b[37m\u001b[0m \u001b[1m1s\u001b[0m 2ms/step - accuracy: 0.4959 - loss: 0.1760 - val_accuracy: 0.4872 - val_loss: 1.4685\n",
            "Epoch 182/300\n",
            "\u001b[1m480/480\u001b[0m \u001b[32m━━━━━━━━━━━━━━━━━━━━\u001b[0m\u001b[37m\u001b[0m \u001b[1m1s\u001b[0m 2ms/step - accuracy: 0.4934 - loss: 0.1774 - val_accuracy: 0.4959 - val_loss: 1.5049\n",
            "Epoch 183/300\n",
            "\u001b[1m480/480\u001b[0m \u001b[32m━━━━━━━━━━━━━━━━━━━━\u001b[0m\u001b[37m\u001b[0m \u001b[1m1s\u001b[0m 2ms/step - accuracy: 0.4865 - loss: 0.1774 - val_accuracy: 0.5107 - val_loss: 1.4228\n",
            "Epoch 184/300\n",
            "\u001b[1m480/480\u001b[0m \u001b[32m━━━━━━━━━━━━━━━━━━━━\u001b[0m\u001b[37m\u001b[0m \u001b[1m1s\u001b[0m 2ms/step - accuracy: 0.4940 - loss: 0.1751 - val_accuracy: 0.4741 - val_loss: 1.3977\n",
            "Epoch 185/300\n",
            "\u001b[1m480/480\u001b[0m \u001b[32m━━━━━━━━━━━━━━━━━━━━\u001b[0m\u001b[37m\u001b[0m \u001b[1m1s\u001b[0m 2ms/step - accuracy: 0.4946 - loss: 0.1789 - val_accuracy: 0.5072 - val_loss: 1.4251\n",
            "Epoch 186/300\n",
            "\u001b[1m480/480\u001b[0m \u001b[32m━━━━━━━━━━━━━━━━━━━━\u001b[0m\u001b[37m\u001b[0m \u001b[1m1s\u001b[0m 2ms/step - accuracy: 0.5019 - loss: 0.1728 - val_accuracy: 0.4761 - val_loss: 1.4197\n",
            "Epoch 187/300\n",
            "\u001b[1m480/480\u001b[0m \u001b[32m━━━━━━━━━━━━━━━━━━━━\u001b[0m\u001b[37m\u001b[0m \u001b[1m1s\u001b[0m 2ms/step - accuracy: 0.5018 - loss: 0.1811 - val_accuracy: 0.4964 - val_loss: 1.4652\n",
            "Epoch 188/300\n",
            "\u001b[1m480/480\u001b[0m \u001b[32m━━━━━━━━━━━━━━━━━━━━\u001b[0m\u001b[37m\u001b[0m \u001b[1m1s\u001b[0m 2ms/step - accuracy: 0.5001 - loss: 0.1765 - val_accuracy: 0.4866 - val_loss: 1.4899\n",
            "Epoch 189/300\n",
            "\u001b[1m480/480\u001b[0m \u001b[32m━━━━━━━━━━━━━━━━━━━━\u001b[0m\u001b[37m\u001b[0m \u001b[1m1s\u001b[0m 2ms/step - accuracy: 0.4983 - loss: 0.1755 - val_accuracy: 0.4845 - val_loss: 1.4482\n",
            "Epoch 190/300\n",
            "\u001b[1m480/480\u001b[0m \u001b[32m━━━━━━━━━━━━━━━━━━━━\u001b[0m\u001b[37m\u001b[0m \u001b[1m1s\u001b[0m 2ms/step - accuracy: 0.5035 - loss: 0.1792 - val_accuracy: 0.4810 - val_loss: 1.4134\n",
            "Epoch 191/300\n",
            "\u001b[1m480/480\u001b[0m \u001b[32m━━━━━━━━━━━━━━━━━━━━\u001b[0m\u001b[37m\u001b[0m \u001b[1m1s\u001b[0m 2ms/step - accuracy: 0.4986 - loss: 0.1757 - val_accuracy: 0.4975 - val_loss: 1.4912\n",
            "Epoch 192/300\n",
            "\u001b[1m480/480\u001b[0m \u001b[32m━━━━━━━━━━━━━━━━━━━━\u001b[0m\u001b[37m\u001b[0m \u001b[1m1s\u001b[0m 2ms/step - accuracy: 0.5036 - loss: 0.1764 - val_accuracy: 0.4946 - val_loss: 1.4889\n",
            "Epoch 193/300\n",
            "\u001b[1m480/480\u001b[0m \u001b[32m━━━━━━━━━━━━━━━━━━━━\u001b[0m\u001b[37m\u001b[0m \u001b[1m1s\u001b[0m 2ms/step - accuracy: 0.5057 - loss: 0.1748 - val_accuracy: 0.4695 - val_loss: 1.3887\n",
            "Epoch 194/300\n",
            "\u001b[1m480/480\u001b[0m \u001b[32m━━━━━━━━━━━━━━━━━━━━\u001b[0m\u001b[37m\u001b[0m \u001b[1m1s\u001b[0m 2ms/step - accuracy: 0.5019 - loss: 0.1743 - val_accuracy: 0.5069 - val_loss: 1.5481\n",
            "Epoch 195/300\n",
            "\u001b[1m480/480\u001b[0m \u001b[32m━━━━━━━━━━━━━━━━━━━━\u001b[0m\u001b[37m\u001b[0m \u001b[1m1s\u001b[0m 2ms/step - accuracy: 0.5017 - loss: 0.1749 - val_accuracy: 0.4774 - val_loss: 1.4654\n",
            "Epoch 196/300\n",
            "\u001b[1m480/480\u001b[0m \u001b[32m━━━━━━━━━━━━━━━━━━━━\u001b[0m\u001b[37m\u001b[0m \u001b[1m1s\u001b[0m 2ms/step - accuracy: 0.4989 - loss: 0.1740 - val_accuracy: 0.4830 - val_loss: 1.4600\n",
            "Epoch 197/300\n",
            "\u001b[1m480/480\u001b[0m \u001b[32m━━━━━━━━━━━━━━━━━━━━\u001b[0m\u001b[37m\u001b[0m \u001b[1m1s\u001b[0m 2ms/step - accuracy: 0.4994 - loss: 0.1740 - val_accuracy: 0.4563 - val_loss: 1.3717\n",
            "Epoch 198/300\n",
            "\u001b[1m480/480\u001b[0m \u001b[32m━━━━━━━━━━━━━━━━━━━━\u001b[0m\u001b[37m\u001b[0m \u001b[1m1s\u001b[0m 2ms/step - accuracy: 0.5014 - loss: 0.1737 - val_accuracy: 0.4804 - val_loss: 1.5637\n",
            "Epoch 199/300\n",
            "\u001b[1m480/480\u001b[0m \u001b[32m━━━━━━━━━━━━━━━━━━━━\u001b[0m\u001b[37m\u001b[0m \u001b[1m1s\u001b[0m 2ms/step - accuracy: 0.5021 - loss: 0.1753 - val_accuracy: 0.4949 - val_loss: 1.5337\n",
            "Epoch 200/300\n",
            "\u001b[1m480/480\u001b[0m \u001b[32m━━━━━━━━━━━━━━━━━━━━\u001b[0m\u001b[37m\u001b[0m \u001b[1m1s\u001b[0m 2ms/step - accuracy: 0.5009 - loss: 0.1703 - val_accuracy: 0.4866 - val_loss: 1.5817\n",
            "Epoch 201/300\n",
            "\u001b[1m480/480\u001b[0m \u001b[32m━━━━━━━━━━━━━━━━━━━━\u001b[0m\u001b[37m\u001b[0m \u001b[1m1s\u001b[0m 2ms/step - accuracy: 0.5015 - loss: 0.1712 - val_accuracy: 0.5263 - val_loss: 1.5666\n",
            "Epoch 202/300\n",
            "\u001b[1m480/480\u001b[0m \u001b[32m━━━━━━━━━━━━━━━━━━━━\u001b[0m\u001b[37m\u001b[0m \u001b[1m1s\u001b[0m 2ms/step - accuracy: 0.5090 - loss: 0.1704 - val_accuracy: 0.4809 - val_loss: 1.4710\n",
            "Epoch 203/300\n",
            "\u001b[1m480/480\u001b[0m \u001b[32m━━━━━━━━━━━━━━━━━━━━\u001b[0m\u001b[37m\u001b[0m \u001b[1m1s\u001b[0m 2ms/step - accuracy: 0.5025 - loss: 0.1746 - val_accuracy: 0.4928 - val_loss: 1.4970\n",
            "Epoch 204/300\n",
            "\u001b[1m480/480\u001b[0m \u001b[32m━━━━━━━━━━━━━━━━━━━━\u001b[0m\u001b[37m\u001b[0m \u001b[1m1s\u001b[0m 2ms/step - accuracy: 0.5059 - loss: 0.1720 - val_accuracy: 0.5011 - val_loss: 1.5051\n",
            "Epoch 205/300\n",
            "\u001b[1m480/480\u001b[0m \u001b[32m━━━━━━━━━━━━━━━━━━━━\u001b[0m\u001b[37m\u001b[0m \u001b[1m1s\u001b[0m 2ms/step - accuracy: 0.5105 - loss: 0.1673 - val_accuracy: 0.5026 - val_loss: 1.5650\n",
            "Epoch 206/300\n",
            "\u001b[1m480/480\u001b[0m \u001b[32m━━━━━━━━━━━━━━━━━━━━\u001b[0m\u001b[37m\u001b[0m \u001b[1m1s\u001b[0m 2ms/step - accuracy: 0.5122 - loss: 0.1735 - val_accuracy: 0.5211 - val_loss: 1.5663\n",
            "Epoch 207/300\n",
            "\u001b[1m480/480\u001b[0m \u001b[32m━━━━━━━━━━━━━━━━━━━━\u001b[0m\u001b[37m\u001b[0m \u001b[1m1s\u001b[0m 2ms/step - accuracy: 0.5097 - loss: 0.1764 - val_accuracy: 0.4674 - val_loss: 1.4531\n",
            "Epoch 208/300\n",
            "\u001b[1m480/480\u001b[0m \u001b[32m━━━━━━━━━━━━━━━━━━━━\u001b[0m\u001b[37m\u001b[0m \u001b[1m1s\u001b[0m 2ms/step - accuracy: 0.5109 - loss: 0.1700 - val_accuracy: 0.5016 - val_loss: 1.5991\n",
            "Epoch 209/300\n",
            "\u001b[1m480/480\u001b[0m \u001b[32m━━━━━━━━━━━━━━━━━━━━\u001b[0m\u001b[37m\u001b[0m \u001b[1m1s\u001b[0m 2ms/step - accuracy: 0.5095 - loss: 0.1688 - val_accuracy: 0.4963 - val_loss: 1.5338\n",
            "Epoch 210/300\n",
            "\u001b[1m480/480\u001b[0m \u001b[32m━━━━━━━━━━━━━━━━━━━━\u001b[0m\u001b[37m\u001b[0m \u001b[1m1s\u001b[0m 2ms/step - accuracy: 0.5132 - loss: 0.1664 - val_accuracy: 0.5005 - val_loss: 1.6012\n",
            "Epoch 211/300\n",
            "\u001b[1m480/480\u001b[0m \u001b[32m━━━━━━━━━━━━━━━━━━━━\u001b[0m\u001b[37m\u001b[0m \u001b[1m1s\u001b[0m 2ms/step - accuracy: 0.5111 - loss: 0.1708 - val_accuracy: 0.5058 - val_loss: 1.5634\n",
            "Epoch 212/300\n",
            "\u001b[1m480/480\u001b[0m \u001b[32m━━━━━━━━━━━━━━━━━━━━\u001b[0m\u001b[37m\u001b[0m \u001b[1m1s\u001b[0m 2ms/step - accuracy: 0.5137 - loss: 0.1716 - val_accuracy: 0.5116 - val_loss: 1.6295\n",
            "Epoch 213/300\n",
            "\u001b[1m480/480\u001b[0m \u001b[32m━━━━━━━━━━━━━━━━━━━━\u001b[0m\u001b[37m\u001b[0m \u001b[1m1s\u001b[0m 2ms/step - accuracy: 0.5141 - loss: 0.1724 - val_accuracy: 0.5086 - val_loss: 1.5507\n",
            "Epoch 214/300\n",
            "\u001b[1m480/480\u001b[0m \u001b[32m━━━━━━━━━━━━━━━━━━━━\u001b[0m\u001b[37m\u001b[0m \u001b[1m1s\u001b[0m 2ms/step - accuracy: 0.5122 - loss: 0.1711 - val_accuracy: 0.4925 - val_loss: 1.5747\n",
            "Epoch 215/300\n",
            "\u001b[1m480/480\u001b[0m \u001b[32m━━━━━━━━━━━━━━━━━━━━\u001b[0m\u001b[37m\u001b[0m \u001b[1m1s\u001b[0m 2ms/step - accuracy: 0.5155 - loss: 0.1760 - val_accuracy: 0.5160 - val_loss: 1.5857\n",
            "Epoch 216/300\n",
            "\u001b[1m480/480\u001b[0m \u001b[32m━━━━━━━━━━━━━━━━━━━━\u001b[0m\u001b[37m\u001b[0m \u001b[1m1s\u001b[0m 2ms/step - accuracy: 0.5163 - loss: 0.1694 - val_accuracy: 0.5040 - val_loss: 1.6234\n",
            "Epoch 217/300\n",
            "\u001b[1m480/480\u001b[0m \u001b[32m━━━━━━━━━━━━━━━━━━━━\u001b[0m\u001b[37m\u001b[0m \u001b[1m1s\u001b[0m 2ms/step - accuracy: 0.5102 - loss: 0.1659 - val_accuracy: 0.5049 - val_loss: 1.5174\n",
            "Epoch 218/300\n",
            "\u001b[1m480/480\u001b[0m \u001b[32m━━━━━━━━━━━━━━━━━━━━\u001b[0m\u001b[37m\u001b[0m \u001b[1m1s\u001b[0m 2ms/step - accuracy: 0.5081 - loss: 0.1669 - val_accuracy: 0.5018 - val_loss: 1.5785\n",
            "Epoch 219/300\n",
            "\u001b[1m480/480\u001b[0m \u001b[32m━━━━━━━━━━━━━━━━━━━━\u001b[0m\u001b[37m\u001b[0m \u001b[1m1s\u001b[0m 2ms/step - accuracy: 0.5100 - loss: 0.1687 - val_accuracy: 0.4957 - val_loss: 1.5494\n",
            "Epoch 220/300\n",
            "\u001b[1m480/480\u001b[0m \u001b[32m━━━━━━━━━━━━━━━━━━━━\u001b[0m\u001b[37m\u001b[0m \u001b[1m1s\u001b[0m 2ms/step - accuracy: 0.5133 - loss: 0.1702 - val_accuracy: 0.4927 - val_loss: 1.4774\n",
            "Epoch 221/300\n",
            "\u001b[1m480/480\u001b[0m \u001b[32m━━━━━━━━━━━━━━━━━━━━\u001b[0m\u001b[37m\u001b[0m \u001b[1m1s\u001b[0m 2ms/step - accuracy: 0.5180 - loss: 0.1705 - val_accuracy: 0.5262 - val_loss: 1.6273\n",
            "Epoch 222/300\n",
            "\u001b[1m480/480\u001b[0m \u001b[32m━━━━━━━━━━━━━━━━━━━━\u001b[0m\u001b[37m\u001b[0m \u001b[1m1s\u001b[0m 2ms/step - accuracy: 0.5179 - loss: 0.1659 - val_accuracy: 0.5398 - val_loss: 1.6736\n",
            "Epoch 223/300\n",
            "\u001b[1m480/480\u001b[0m \u001b[32m━━━━━━━━━━━━━━━━━━━━\u001b[0m\u001b[37m\u001b[0m \u001b[1m1s\u001b[0m 2ms/step - accuracy: 0.5165 - loss: 0.1689 - val_accuracy: 0.4951 - val_loss: 1.5753\n",
            "Epoch 224/300\n",
            "\u001b[1m480/480\u001b[0m \u001b[32m━━━━━━━━━━━━━━━━━━━━\u001b[0m\u001b[37m\u001b[0m \u001b[1m1s\u001b[0m 2ms/step - accuracy: 0.5169 - loss: 0.1686 - val_accuracy: 0.5102 - val_loss: 1.6312\n",
            "Epoch 225/300\n",
            "\u001b[1m480/480\u001b[0m \u001b[32m━━━━━━━━━━━━━━━━━━━━\u001b[0m\u001b[37m\u001b[0m \u001b[1m1s\u001b[0m 2ms/step - accuracy: 0.5084 - loss: 0.1697 - val_accuracy: 0.5095 - val_loss: 1.5736\n",
            "Epoch 226/300\n",
            "\u001b[1m480/480\u001b[0m \u001b[32m━━━━━━━━━━━━━━━━━━━━\u001b[0m\u001b[37m\u001b[0m \u001b[1m1s\u001b[0m 2ms/step - accuracy: 0.5155 - loss: 0.1669 - val_accuracy: 0.4896 - val_loss: 1.5737\n",
            "Epoch 227/300\n",
            "\u001b[1m480/480\u001b[0m \u001b[32m━━━━━━━━━━━━━━━━━━━━\u001b[0m\u001b[37m\u001b[0m \u001b[1m1s\u001b[0m 2ms/step - accuracy: 0.5161 - loss: 0.1663 - val_accuracy: 0.5015 - val_loss: 1.5531\n",
            "Epoch 228/300\n",
            "\u001b[1m480/480\u001b[0m \u001b[32m━━━━━━━━━━━━━━━━━━━━\u001b[0m\u001b[37m\u001b[0m \u001b[1m1s\u001b[0m 2ms/step - accuracy: 0.5158 - loss: 0.1685 - val_accuracy: 0.5235 - val_loss: 1.6123\n",
            "Epoch 229/300\n",
            "\u001b[1m480/480\u001b[0m \u001b[32m━━━━━━━━━━━━━━━━━━━━\u001b[0m\u001b[37m\u001b[0m \u001b[1m1s\u001b[0m 2ms/step - accuracy: 0.5125 - loss: 0.1680 - val_accuracy: 0.5162 - val_loss: 1.6626\n",
            "Epoch 230/300\n",
            "\u001b[1m480/480\u001b[0m \u001b[32m━━━━━━━━━━━━━━━━━━━━\u001b[0m\u001b[37m\u001b[0m \u001b[1m1s\u001b[0m 2ms/step - accuracy: 0.5213 - loss: 0.1663 - val_accuracy: 0.5566 - val_loss: 1.7126\n",
            "Epoch 231/300\n",
            "\u001b[1m480/480\u001b[0m \u001b[32m━━━━━━━━━━━━━━━━━━━━\u001b[0m\u001b[37m\u001b[0m \u001b[1m1s\u001b[0m 2ms/step - accuracy: 0.5198 - loss: 0.1672 - val_accuracy: 0.5064 - val_loss: 1.6551\n",
            "Epoch 232/300\n",
            "\u001b[1m480/480\u001b[0m \u001b[32m━━━━━━━━━━━━━━━━━━━━\u001b[0m\u001b[37m\u001b[0m \u001b[1m1s\u001b[0m 2ms/step - accuracy: 0.5232 - loss: 0.1630 - val_accuracy: 0.5067 - val_loss: 1.6288\n",
            "Epoch 233/300\n",
            "\u001b[1m480/480\u001b[0m \u001b[32m━━━━━━━━━━━━━━━━━━━━\u001b[0m\u001b[37m\u001b[0m \u001b[1m1s\u001b[0m 2ms/step - accuracy: 0.5177 - loss: 0.1661 - val_accuracy: 0.5091 - val_loss: 1.6054\n",
            "Epoch 234/300\n",
            "\u001b[1m480/480\u001b[0m \u001b[32m━━━━━━━━━━━━━━━━━━━━\u001b[0m\u001b[37m\u001b[0m \u001b[1m1s\u001b[0m 2ms/step - accuracy: 0.5178 - loss: 0.1639 - val_accuracy: 0.5213 - val_loss: 1.6089\n",
            "Epoch 235/300\n",
            "\u001b[1m480/480\u001b[0m \u001b[32m━━━━━━━━━━━━━━━━━━━━\u001b[0m\u001b[37m\u001b[0m \u001b[1m1s\u001b[0m 2ms/step - accuracy: 0.5217 - loss: 0.1660 - val_accuracy: 0.4893 - val_loss: 1.6367\n",
            "Epoch 236/300\n",
            "\u001b[1m480/480\u001b[0m \u001b[32m━━━━━━━━━━━━━━━━━━━━\u001b[0m\u001b[37m\u001b[0m \u001b[1m1s\u001b[0m 2ms/step - accuracy: 0.5232 - loss: 0.1637 - val_accuracy: 0.5171 - val_loss: 1.5783\n",
            "Epoch 237/300\n",
            "\u001b[1m480/480\u001b[0m \u001b[32m━━━━━━━━━━━━━━━━━━━━\u001b[0m\u001b[37m\u001b[0m \u001b[1m1s\u001b[0m 2ms/step - accuracy: 0.5231 - loss: 0.1637 - val_accuracy: 0.5489 - val_loss: 1.7271\n",
            "Epoch 238/300\n",
            "\u001b[1m480/480\u001b[0m \u001b[32m━━━━━━━━━━━━━━━━━━━━\u001b[0m\u001b[37m\u001b[0m \u001b[1m1s\u001b[0m 2ms/step - accuracy: 0.5205 - loss: 0.1632 - val_accuracy: 0.5032 - val_loss: 1.5680\n",
            "Epoch 239/300\n",
            "\u001b[1m480/480\u001b[0m \u001b[32m━━━━━━━━━━━━━━━━━━━━\u001b[0m\u001b[37m\u001b[0m \u001b[1m1s\u001b[0m 2ms/step - accuracy: 0.5224 - loss: 0.1649 - val_accuracy: 0.5009 - val_loss: 1.6134\n",
            "Epoch 240/300\n",
            "\u001b[1m480/480\u001b[0m \u001b[32m━━━━━━━━━━━━━━━━━━━━\u001b[0m\u001b[37m\u001b[0m \u001b[1m1s\u001b[0m 2ms/step - accuracy: 0.5237 - loss: 0.1688 - val_accuracy: 0.5096 - val_loss: 1.6566\n",
            "Epoch 241/300\n",
            "\u001b[1m480/480\u001b[0m \u001b[32m━━━━━━━━━━━━━━━━━━━━\u001b[0m\u001b[37m\u001b[0m \u001b[1m1s\u001b[0m 2ms/step - accuracy: 0.5211 - loss: 0.1637 - val_accuracy: 0.5427 - val_loss: 1.6668\n",
            "Epoch 242/300\n",
            "\u001b[1m480/480\u001b[0m \u001b[32m━━━━━━━━━━━━━━━━━━━━\u001b[0m\u001b[37m\u001b[0m \u001b[1m1s\u001b[0m 2ms/step - accuracy: 0.5233 - loss: 0.1615 - val_accuracy: 0.4963 - val_loss: 1.6123\n",
            "Epoch 243/300\n",
            "\u001b[1m480/480\u001b[0m \u001b[32m━━━━━━━━━━━━━━━━━━━━\u001b[0m\u001b[37m\u001b[0m \u001b[1m1s\u001b[0m 2ms/step - accuracy: 0.5192 - loss: 0.1641 - val_accuracy: 0.4897 - val_loss: 1.5608\n",
            "Epoch 244/300\n",
            "\u001b[1m480/480\u001b[0m \u001b[32m━━━━━━━━━━━━━━━━━━━━\u001b[0m\u001b[37m\u001b[0m \u001b[1m1s\u001b[0m 2ms/step - accuracy: 0.5216 - loss: 0.1641 - val_accuracy: 0.5171 - val_loss: 1.6531\n",
            "Epoch 245/300\n",
            "\u001b[1m480/480\u001b[0m \u001b[32m━━━━━━━━━━━━━━━━━━━━\u001b[0m\u001b[37m\u001b[0m \u001b[1m1s\u001b[0m 2ms/step - accuracy: 0.5209 - loss: 0.1651 - val_accuracy: 0.5208 - val_loss: 1.6377\n",
            "Epoch 246/300\n",
            "\u001b[1m480/480\u001b[0m \u001b[32m━━━━━━━━━━━━━━━━━━━━\u001b[0m\u001b[37m\u001b[0m \u001b[1m1s\u001b[0m 2ms/step - accuracy: 0.5191 - loss: 0.1641 - val_accuracy: 0.5083 - val_loss: 1.6114\n",
            "Epoch 247/300\n",
            "\u001b[1m480/480\u001b[0m \u001b[32m━━━━━━━━━━━━━━━━━━━━\u001b[0m\u001b[37m\u001b[0m \u001b[1m1s\u001b[0m 2ms/step - accuracy: 0.5208 - loss: 0.1597 - val_accuracy: 0.5210 - val_loss: 1.7699\n",
            "Epoch 248/300\n",
            "\u001b[1m480/480\u001b[0m \u001b[32m━━━━━━━━━━━━━━━━━━━━\u001b[0m\u001b[37m\u001b[0m \u001b[1m1s\u001b[0m 2ms/step - accuracy: 0.5266 - loss: 0.1648 - val_accuracy: 0.5301 - val_loss: 1.6357\n",
            "Epoch 249/300\n",
            "\u001b[1m480/480\u001b[0m \u001b[32m━━━━━━━━━━━━━━━━━━━━\u001b[0m\u001b[37m\u001b[0m \u001b[1m1s\u001b[0m 2ms/step - accuracy: 0.5220 - loss: 0.1648 - val_accuracy: 0.5004 - val_loss: 1.6833\n",
            "Epoch 250/300\n",
            "\u001b[1m480/480\u001b[0m \u001b[32m━━━━━━━━━━━━━━━━━━━━\u001b[0m\u001b[37m\u001b[0m \u001b[1m1s\u001b[0m 2ms/step - accuracy: 0.5206 - loss: 0.1594 - val_accuracy: 0.5034 - val_loss: 1.7182\n",
            "Epoch 251/300\n",
            "\u001b[1m480/480\u001b[0m \u001b[32m━━━━━━━━━━━━━━━━━━━━\u001b[0m\u001b[37m\u001b[0m \u001b[1m1s\u001b[0m 2ms/step - accuracy: 0.5234 - loss: 0.1630 - val_accuracy: 0.5214 - val_loss: 1.7167\n",
            "Epoch 252/300\n",
            "\u001b[1m480/480\u001b[0m \u001b[32m━━━━━━━━━━━━━━━━━━━━\u001b[0m\u001b[37m\u001b[0m \u001b[1m1s\u001b[0m 2ms/step - accuracy: 0.5254 - loss: 0.1620 - val_accuracy: 0.5157 - val_loss: 1.7838\n",
            "Epoch 253/300\n",
            "\u001b[1m480/480\u001b[0m \u001b[32m━━━━━━━━━━━━━━━━━━━━\u001b[0m\u001b[37m\u001b[0m \u001b[1m1s\u001b[0m 2ms/step - accuracy: 0.5243 - loss: 0.1626 - val_accuracy: 0.5149 - val_loss: 1.7199\n",
            "Epoch 254/300\n",
            "\u001b[1m480/480\u001b[0m \u001b[32m━━━━━━━━━━━━━━━━━━━━\u001b[0m\u001b[37m\u001b[0m \u001b[1m1s\u001b[0m 2ms/step - accuracy: 0.5246 - loss: 0.1636 - val_accuracy: 0.5263 - val_loss: 1.7192\n",
            "Epoch 255/300\n",
            "\u001b[1m480/480\u001b[0m \u001b[32m━━━━━━━━━━━━━━━━━━━━\u001b[0m\u001b[37m\u001b[0m \u001b[1m1s\u001b[0m 2ms/step - accuracy: 0.5224 - loss: 0.1622 - val_accuracy: 0.5097 - val_loss: 1.7070\n",
            "Epoch 256/300\n",
            "\u001b[1m480/480\u001b[0m \u001b[32m━━━━━━━━━━━━━━━━━━━━\u001b[0m\u001b[37m\u001b[0m \u001b[1m1s\u001b[0m 2ms/step - accuracy: 0.5236 - loss: 0.1612 - val_accuracy: 0.5160 - val_loss: 1.7338\n",
            "Epoch 257/300\n",
            "\u001b[1m480/480\u001b[0m \u001b[32m━━━━━━━━━━━━━━━━━━━━\u001b[0m\u001b[37m\u001b[0m \u001b[1m1s\u001b[0m 2ms/step - accuracy: 0.5265 - loss: 0.1616 - val_accuracy: 0.5430 - val_loss: 1.6997\n",
            "Epoch 258/300\n",
            "\u001b[1m480/480\u001b[0m \u001b[32m━━━━━━━━━━━━━━━━━━━━\u001b[0m\u001b[37m\u001b[0m \u001b[1m1s\u001b[0m 2ms/step - accuracy: 0.5258 - loss: 0.1592 - val_accuracy: 0.5594 - val_loss: 1.8903\n",
            "Epoch 259/300\n",
            "\u001b[1m480/480\u001b[0m \u001b[32m━━━━━━━━━━━━━━━━━━━━\u001b[0m\u001b[37m\u001b[0m \u001b[1m1s\u001b[0m 2ms/step - accuracy: 0.5300 - loss: 0.1610 - val_accuracy: 0.5092 - val_loss: 1.6808\n",
            "Epoch 260/300\n",
            "\u001b[1m480/480\u001b[0m \u001b[32m━━━━━━━━━━━━━━━━━━━━\u001b[0m\u001b[37m\u001b[0m \u001b[1m1s\u001b[0m 2ms/step - accuracy: 0.5174 - loss: 0.1672 - val_accuracy: 0.5058 - val_loss: 1.7427\n",
            "Epoch 261/300\n",
            "\u001b[1m480/480\u001b[0m \u001b[32m━━━━━━━━━━━━━━━━━━━━\u001b[0m\u001b[37m\u001b[0m \u001b[1m1s\u001b[0m 2ms/step - accuracy: 0.5279 - loss: 0.1616 - val_accuracy: 0.4976 - val_loss: 1.7282\n",
            "Epoch 262/300\n",
            "\u001b[1m480/480\u001b[0m \u001b[32m━━━━━━━━━━━━━━━━━━━━\u001b[0m\u001b[37m\u001b[0m \u001b[1m1s\u001b[0m 2ms/step - accuracy: 0.5285 - loss: 0.1622 - val_accuracy: 0.5439 - val_loss: 1.8388\n",
            "Epoch 263/300\n",
            "\u001b[1m480/480\u001b[0m \u001b[32m━━━━━━━━━━━━━━━━━━━━\u001b[0m\u001b[37m\u001b[0m \u001b[1m1s\u001b[0m 2ms/step - accuracy: 0.5317 - loss: 0.1581 - val_accuracy: 0.5033 - val_loss: 1.6800\n",
            "Epoch 264/300\n",
            "\u001b[1m480/480\u001b[0m \u001b[32m━━━━━━━━━━━━━━━━━━━━\u001b[0m\u001b[37m\u001b[0m \u001b[1m1s\u001b[0m 2ms/step - accuracy: 0.5258 - loss: 0.1614 - val_accuracy: 0.5441 - val_loss: 1.7741\n",
            "Epoch 265/300\n",
            "\u001b[1m480/480\u001b[0m \u001b[32m━━━━━━━━━━━━━━━━━━━━\u001b[0m\u001b[37m\u001b[0m \u001b[1m1s\u001b[0m 2ms/step - accuracy: 0.5273 - loss: 0.1595 - val_accuracy: 0.5256 - val_loss: 1.6640\n",
            "Epoch 266/300\n",
            "\u001b[1m480/480\u001b[0m \u001b[32m━━━━━━━━━━━━━━━━━━━━\u001b[0m\u001b[37m\u001b[0m \u001b[1m1s\u001b[0m 2ms/step - accuracy: 0.5332 - loss: 0.1618 - val_accuracy: 0.5463 - val_loss: 1.8086\n",
            "Epoch 267/300\n",
            "\u001b[1m480/480\u001b[0m \u001b[32m━━━━━━━━━━━━━━━━━━━━\u001b[0m\u001b[37m\u001b[0m \u001b[1m1s\u001b[0m 2ms/step - accuracy: 0.5346 - loss: 0.1616 - val_accuracy: 0.5367 - val_loss: 1.7677\n",
            "Epoch 268/300\n",
            "\u001b[1m480/480\u001b[0m \u001b[32m━━━━━━━━━━━━━━━━━━━━\u001b[0m\u001b[37m\u001b[0m \u001b[1m1s\u001b[0m 2ms/step - accuracy: 0.5335 - loss: 0.1584 - val_accuracy: 0.5196 - val_loss: 1.7668\n",
            "Epoch 269/300\n",
            "\u001b[1m480/480\u001b[0m \u001b[32m━━━━━━━━━━━━━━━━━━━━\u001b[0m\u001b[37m\u001b[0m \u001b[1m1s\u001b[0m 2ms/step - accuracy: 0.5283 - loss: 0.1591 - val_accuracy: 0.4992 - val_loss: 1.6829\n",
            "Epoch 270/300\n",
            "\u001b[1m480/480\u001b[0m \u001b[32m━━━━━━━━━━━━━━━━━━━━\u001b[0m\u001b[37m\u001b[0m \u001b[1m1s\u001b[0m 2ms/step - accuracy: 0.5316 - loss: 0.1600 - val_accuracy: 0.5504 - val_loss: 1.8110\n",
            "Epoch 271/300\n",
            "\u001b[1m480/480\u001b[0m \u001b[32m━━━━━━━━━━━━━━━━━━━━\u001b[0m\u001b[37m\u001b[0m \u001b[1m1s\u001b[0m 2ms/step - accuracy: 0.5339 - loss: 0.1608 - val_accuracy: 0.5186 - val_loss: 1.7640\n",
            "Epoch 272/300\n",
            "\u001b[1m480/480\u001b[0m \u001b[32m━━━━━━━━━━━━━━━━━━━━\u001b[0m\u001b[37m\u001b[0m \u001b[1m1s\u001b[0m 2ms/step - accuracy: 0.5409 - loss: 0.1600 - val_accuracy: 0.5210 - val_loss: 1.6876\n",
            "Epoch 273/300\n",
            "\u001b[1m480/480\u001b[0m \u001b[32m━━━━━━━━━━━━━━━━━━━━\u001b[0m\u001b[37m\u001b[0m \u001b[1m1s\u001b[0m 2ms/step - accuracy: 0.5382 - loss: 0.1589 - val_accuracy: 0.5198 - val_loss: 1.7839\n",
            "Epoch 274/300\n",
            "\u001b[1m480/480\u001b[0m \u001b[32m━━━━━━━━━━━━━━━━━━━━\u001b[0m\u001b[37m\u001b[0m \u001b[1m1s\u001b[0m 2ms/step - accuracy: 0.5328 - loss: 0.1595 - val_accuracy: 0.5343 - val_loss: 1.7930\n",
            "Epoch 275/300\n",
            "\u001b[1m480/480\u001b[0m \u001b[32m━━━━━━━━━━━━━━━━━━━━\u001b[0m\u001b[37m\u001b[0m \u001b[1m1s\u001b[0m 2ms/step - accuracy: 0.5347 - loss: 0.1596 - val_accuracy: 0.5528 - val_loss: 1.8695\n",
            "Epoch 276/300\n",
            "\u001b[1m480/480\u001b[0m \u001b[32m━━━━━━━━━━━━━━━━━━━━\u001b[0m\u001b[37m\u001b[0m \u001b[1m1s\u001b[0m 2ms/step - accuracy: 0.5347 - loss: 0.1554 - val_accuracy: 0.5162 - val_loss: 1.7956\n",
            "Epoch 277/300\n",
            "\u001b[1m480/480\u001b[0m \u001b[32m━━━━━━━━━━━━━━━━━━━━\u001b[0m\u001b[37m\u001b[0m \u001b[1m1s\u001b[0m 2ms/step - accuracy: 0.5359 - loss: 0.1611 - val_accuracy: 0.5169 - val_loss: 1.7877\n",
            "Epoch 278/300\n",
            "\u001b[1m480/480\u001b[0m \u001b[32m━━━━━━━━━━━━━━━━━━━━\u001b[0m\u001b[37m\u001b[0m \u001b[1m1s\u001b[0m 2ms/step - accuracy: 0.5372 - loss: 0.1601 - val_accuracy: 0.5342 - val_loss: 1.8095\n",
            "Epoch 279/300\n",
            "\u001b[1m480/480\u001b[0m \u001b[32m━━━━━━━━━━━━━━━━━━━━\u001b[0m\u001b[37m\u001b[0m \u001b[1m1s\u001b[0m 2ms/step - accuracy: 0.5323 - loss: 0.1572 - val_accuracy: 0.5468 - val_loss: 1.8658\n",
            "Epoch 280/300\n",
            "\u001b[1m480/480\u001b[0m \u001b[32m━━━━━━━━━━━━━━━━━━━━\u001b[0m\u001b[37m\u001b[0m \u001b[1m1s\u001b[0m 2ms/step - accuracy: 0.5337 - loss: 0.1580 - val_accuracy: 0.5186 - val_loss: 1.8439\n",
            "Epoch 281/300\n",
            "\u001b[1m480/480\u001b[0m \u001b[32m━━━━━━━━━━━━━━━━━━━━\u001b[0m\u001b[37m\u001b[0m \u001b[1m1s\u001b[0m 2ms/step - accuracy: 0.5379 - loss: 0.1574 - val_accuracy: 0.5400 - val_loss: 1.7918\n",
            "Epoch 282/300\n",
            "\u001b[1m480/480\u001b[0m \u001b[32m━━━━━━━━━━━━━━━━━━━━\u001b[0m\u001b[37m\u001b[0m \u001b[1m1s\u001b[0m 2ms/step - accuracy: 0.5349 - loss: 0.1556 - val_accuracy: 0.5195 - val_loss: 1.8454\n",
            "Epoch 283/300\n",
            "\u001b[1m480/480\u001b[0m \u001b[32m━━━━━━━━━━━━━━━━━━━━\u001b[0m\u001b[37m\u001b[0m \u001b[1m1s\u001b[0m 2ms/step - accuracy: 0.5374 - loss: 0.1581 - val_accuracy: 0.5263 - val_loss: 1.7715\n",
            "Epoch 284/300\n",
            "\u001b[1m480/480\u001b[0m \u001b[32m━━━━━━━━━━━━━━━━━━━━\u001b[0m\u001b[37m\u001b[0m \u001b[1m1s\u001b[0m 2ms/step - accuracy: 0.5368 - loss: 0.1539 - val_accuracy: 0.5237 - val_loss: 1.7448\n",
            "Epoch 285/300\n",
            "\u001b[1m480/480\u001b[0m \u001b[32m━━━━━━━━━━━━━━━━━━━━\u001b[0m\u001b[37m\u001b[0m \u001b[1m1s\u001b[0m 2ms/step - accuracy: 0.5384 - loss: 0.1562 - val_accuracy: 0.5385 - val_loss: 1.8210\n",
            "Epoch 286/300\n",
            "\u001b[1m480/480\u001b[0m \u001b[32m━━━━━━━━━━━━━━━━━━━━\u001b[0m\u001b[37m\u001b[0m \u001b[1m1s\u001b[0m 2ms/step - accuracy: 0.5402 - loss: 0.1557 - val_accuracy: 0.5306 - val_loss: 1.8196\n",
            "Epoch 287/300\n",
            "\u001b[1m480/480\u001b[0m \u001b[32m━━━━━━━━━━━━━━━━━━━━\u001b[0m\u001b[37m\u001b[0m \u001b[1m1s\u001b[0m 2ms/step - accuracy: 0.5330 - loss: 0.1584 - val_accuracy: 0.5326 - val_loss: 1.8737\n",
            "Epoch 288/300\n",
            "\u001b[1m480/480\u001b[0m \u001b[32m━━━━━━━━━━━━━━━━━━━━\u001b[0m\u001b[37m\u001b[0m \u001b[1m1s\u001b[0m 2ms/step - accuracy: 0.5389 - loss: 0.1556 - val_accuracy: 0.5208 - val_loss: 1.7613\n",
            "Epoch 289/300\n",
            "\u001b[1m480/480\u001b[0m \u001b[32m━━━━━━━━━━━━━━━━━━━━\u001b[0m\u001b[37m\u001b[0m \u001b[1m1s\u001b[0m 2ms/step - accuracy: 0.5429 - loss: 0.1576 - val_accuracy: 0.5501 - val_loss: 1.8312\n",
            "Epoch 290/300\n",
            "\u001b[1m480/480\u001b[0m \u001b[32m━━━━━━━━━━━━━━━━━━━━\u001b[0m\u001b[37m\u001b[0m \u001b[1m1s\u001b[0m 2ms/step - accuracy: 0.5395 - loss: 0.1541 - val_accuracy: 0.5155 - val_loss: 1.7924\n",
            "Epoch 291/300\n",
            "\u001b[1m480/480\u001b[0m \u001b[32m━━━━━━━━━━━━━━━━━━━━\u001b[0m\u001b[37m\u001b[0m \u001b[1m1s\u001b[0m 2ms/step - accuracy: 0.5413 - loss: 0.1551 - val_accuracy: 0.5228 - val_loss: 1.8236\n",
            "Epoch 292/300\n",
            "\u001b[1m480/480\u001b[0m \u001b[32m━━━━━━━━━━━━━━━━━━━━\u001b[0m\u001b[37m\u001b[0m \u001b[1m1s\u001b[0m 2ms/step - accuracy: 0.5425 - loss: 0.1561 - val_accuracy: 0.5291 - val_loss: 1.8442\n",
            "Epoch 293/300\n",
            "\u001b[1m480/480\u001b[0m \u001b[32m━━━━━━━━━━━━━━━━━━━━\u001b[0m\u001b[37m\u001b[0m \u001b[1m1s\u001b[0m 2ms/step - accuracy: 0.5442 - loss: 0.1545 - val_accuracy: 0.5367 - val_loss: 1.8619\n",
            "Epoch 294/300\n",
            "\u001b[1m480/480\u001b[0m \u001b[32m━━━━━━━━━━━━━━━━━━━━\u001b[0m\u001b[37m\u001b[0m \u001b[1m1s\u001b[0m 2ms/step - accuracy: 0.5374 - loss: 0.1543 - val_accuracy: 0.5186 - val_loss: 1.8418\n",
            "Epoch 295/300\n",
            "\u001b[1m480/480\u001b[0m \u001b[32m━━━━━━━━━━━━━━━━━━━━\u001b[0m\u001b[37m\u001b[0m \u001b[1m1s\u001b[0m 2ms/step - accuracy: 0.5408 - loss: 0.1526 - val_accuracy: 0.5265 - val_loss: 1.8293\n",
            "Epoch 296/300\n",
            "\u001b[1m480/480\u001b[0m \u001b[32m━━━━━━━━━━━━━━━━━━━━\u001b[0m\u001b[37m\u001b[0m \u001b[1m1s\u001b[0m 2ms/step - accuracy: 0.5457 - loss: 0.1534 - val_accuracy: 0.5475 - val_loss: 1.8965\n",
            "Epoch 297/300\n",
            "\u001b[1m480/480\u001b[0m \u001b[32m━━━━━━━━━━━━━━━━━━━━\u001b[0m\u001b[37m\u001b[0m \u001b[1m1s\u001b[0m 2ms/step - accuracy: 0.5383 - loss: 0.1551 - val_accuracy: 0.5302 - val_loss: 1.8403\n",
            "Epoch 298/300\n",
            "\u001b[1m480/480\u001b[0m \u001b[32m━━━━━━━━━━━━━━━━━━━━\u001b[0m\u001b[37m\u001b[0m \u001b[1m1s\u001b[0m 2ms/step - accuracy: 0.5436 - loss: 0.1514 - val_accuracy: 0.5274 - val_loss: 1.7998\n",
            "Epoch 299/300\n",
            "\u001b[1m480/480\u001b[0m \u001b[32m━━━━━━━━━━━━━━━━━━━━\u001b[0m\u001b[37m\u001b[0m \u001b[1m1s\u001b[0m 2ms/step - accuracy: 0.5434 - loss: 0.1545 - val_accuracy: 0.5402 - val_loss: 1.8563\n",
            "Epoch 300/300\n",
            "\u001b[1m480/480\u001b[0m \u001b[32m━━━━━━━━━━━━━━━━━━━━\u001b[0m\u001b[37m\u001b[0m \u001b[1m1s\u001b[0m 2ms/step - accuracy: 0.5405 - loss: 0.1539 - val_accuracy: 0.5372 - val_loss: 1.9000\n"
          ]
        }
      ],
      "source": [
        "history = model.fit(x_train,categorical_train_labels,batch_size=100, epochs=100, validation_split=0.2)"
      ]
    },
    {
      "cell_type": "code",
      "execution_count": null,
      "id": "4e39da70",
      "metadata": {
        "id": "4e39da70",
        "outputId": "d56e6d18-31c4-4d1c-a3f8-125e3d71a292"
      },
      "outputs": [
        {
          "data": {
            "text/plain": [
              "dict_keys(['accuracy', 'loss', 'val_accuracy', 'val_loss'])"
            ]
          },
          "execution_count": 231,
          "metadata": {},
          "output_type": "execute_result"
        }
      ],
      "source": [
        "history.history.keys()"
      ]
    },
    {
      "cell_type": "code",
      "execution_count": null,
      "id": "24e29d76",
      "metadata": {
        "id": "24e29d76",
        "outputId": "5ee3f05a-67f4-475e-be34-7f7f72d9f8af"
      },
      "outputs": [
        {
          "data": {
            "text/plain": [
              "<matplotlib.legend.Legend at 0x1d2d291de50>"
            ]
          },
          "execution_count": 232,
          "metadata": {},
          "output_type": "execute_result"
        },
        {
          "data": {
            "image/png": "[encoded data removed]",
            "text/plain": [
              "<Figure size 640x480 with 1 Axes>"
            ]
          },
          "metadata": {},
          "output_type": "display_data"
        }
      ],
      "source": [
        "plt.plot(history.history['val_loss'])\n",
        "plt.plot(history.history['loss'])\n",
        "plt.legend(['val', 'train'])"
      ]
    },
    {
      "cell_type": "code",
      "execution_count": null,
      "id": "3badd5da",
      "metadata": {
        "id": "3badd5da",
        "outputId": "c513b968-fb55-467d-94c3-4bfa3c053da9"
      },
      "outputs": [
        {
          "data": {
            "text/plain": [
              "<matplotlib.legend.Legend at 0x1d2c33ad1d0>"
            ]
          },
          "execution_count": 234,
          "metadata": {},
          "output_type": "execute_result"
        },
        {
          "data": {
            "image/png": "[encoded data removed]",
            "text/plain": [
              "<Figure size 640x480 with 1 Axes>"
            ]
          },
          "metadata": {},
          "output_type": "display_data"
        }
      ],
      "source": [
        "plt.plot(history.history['val_accuracy'])\n",
        "plt.plot(history.history['accuracy'])\n",
        "plt.legend(['val', 'train'])"
      ]
    },
    {
      "cell_type": "code",
      "execution_count": null,
      "id": "4c405faf",
      "metadata": {
        "id": "4c405faf",
        "outputId": "d416700b-098a-4b6d-e619-6ad40343bfaf"
      },
      "outputs": [
        {
          "name": "stdout",
          "output_type": "stream",
          "text": [
            "\u001b[1m313/313\u001b[0m \u001b[32m━━━━━━━━━━━━━━━━━━━━\u001b[0m\u001b[37m\u001b[0m \u001b[1m0s\u001b[0m 1ms/step - accuracy: 0.5398 - loss: 1.8868\n",
            "\n",
            "Testing loss: 1.89, acc: 0.54%\n"
          ]
        }
      ],
      "source": [
        "x_test.shape\n",
        "categorical_test_labels.shape\n",
        "loss, acc = model.evaluate(x_test, categorical_test_labels)\n",
        "print('\\nTesting loss: %.2f, acc: %.2f%%'%(loss, acc))"
      ]
    },
    {
      "cell_type": "code",
      "execution_count": null,
      "id": "855336bf",
      "metadata": {
        "id": "855336bf",
        "outputId": "d9e02390-7144-4603-ce33-20bee23c7e74"
      },
      "outputs": [
        {
          "name": "stdout",
          "output_type": "stream",
          "text": [
            "\u001b[1m313/313\u001b[0m \u001b[32m━━━━━━━━━━━━━━━━━━━━\u001b[0m\u001b[37m\u001b[0m \u001b[1m0s\u001b[0m 842us/step\n"
          ]
        }
      ],
      "source": [
        "predicted = model.predict(x_test)\n",
        "predicted_classes = np.argmax(predicted, axis=1)"
      ]
    },
    {
      "cell_type": "code",
      "execution_count": null,
      "id": "5133d005",
      "metadata": {
        "id": "5133d005",
        "outputId": "fdd766c6-bb77-42e4-f659-39bb3e53c6b3"
      },
      "outputs": [
        {
          "name": "stdout",
          "output_type": "stream",
          "text": [
            "predicted:\n",
            "[9 2 1 ... 8 1 5]\n",
            "True Label:\n",
            "[9 2 1 ... 8 1 5]\n"
          ]
        }
      ],
      "source": [
        "print(\"predicted:\")\n",
        "print(predicted_classes)\n",
        "print(\"True Label:\")\n",
        "print(test_labels)"
      ]
    },
    {
      "cell_type": "code",
      "execution_count": null,
      "id": "cec352fd",
      "metadata": {
        "id": "cec352fd",
        "outputId": "aa3c3923-72e9-480b-a4a5-f82727bcbe5d"
      },
      "outputs": [
        {
          "data": {
            "text/plain": [
              "Text(0, 0.5, 'True label')"
            ]
          },
          "execution_count": 242,
          "metadata": {},
          "output_type": "execute_result"
        },
        {
          "data": {
            "image/png": "[encoded data removed]",
            "text/plain": [
              "<Figure size 480x480 with 1 Axes>"
            ]
          },
          "metadata": {},
          "output_type": "display_data"
        }
      ],
      "source": [
        "from sklearn.metrics import confusion_matrix\n",
        "plt.matshow(confusion_matrix(test_labels, predicted_classes), cmap=\"Blues\")\n",
        "plt.xticks(range(10))\n",
        "plt.yticks(range(10))\n",
        "plt.xlabel(\"Predicted label\")\n",
        "plt.ylabel(\"True label\")"
      ]
    }
  ],
  "metadata": {
    "kernelspec": {
      "display_name": "Python 3",
      "name": "python3"
    },
    "language_info": {
      "codemirror_mode": {
        "name": "ipython",
        "version": 3
      },
      "file_extension": ".py",
      "mimetype": "text/x-python",
      "name": "python",
      "nbconvert_exporter": "python",
      "pygments_lexer": "ipython3",
      "version": "3.13.2"
    },
    "colab": {
      "provenance": [],
      "gpuType": "T4"
    },
    "accelerator": "GPU"
  },
  "nbformat": 4,
  "nbformat_minor": 5
}