{
  "nbformat": 4,
  "nbformat_minor": 0,
  "metadata": {
    "colab": {
      "provenance": [],
      "toc_visible": true,
      "gpuType": "T4",
      "authorship_tag": "ABX9TyNvvf3uOx5A1trvCfCcjnd/",
      "include_colab_link": true
    },
    "kernelspec": {
      "name": "python3",
      "display_name": "Python 3"
    },
    "language_info": {
      "name": "python"
    },
    "accelerator": "GPU"
  },
  "cells": [
    {
      "cell_type": "markdown",
      "metadata": {
        "id": "view-in-github",
        "colab_type": "text"
      },
      "source": [
        "<a href=\"https://colab.research.google.com/github/GMobinit/deep_learning_fashion_mnist/blob/home_work/plot_lib.ipynb\" target=\"_parent\"><img src=\"https://colab.research.google.com/assets/colab-badge.svg\" alt=\"Open In Colab\"/></a>"
      ]
    },
    {
      "cell_type": "code",
      "execution_count": null,
      "metadata": {
        "id": "KgQ0aNRBSQNm"
      },
      "outputs": [],
      "source": [
        "def plot_training_history(history):\n",
        "    \"\"\"\n",
        "    Plot training history showing loss/val_loss and accuracy/val_accuracy\n",
        "\n",
        "    Parameters:\n",
        "    history: History object returned by model.fit()\n",
        "    \"\"\"\n",
        "\n",
        "    # Create figure with 2 subplots\n",
        "    fig, (ax1, ax2) = plt.subplots(1, 2, figsize=(15, 5))\n",
        "\n",
        "    # Plot 1: Loss and Validation Loss\n",
        "    ax1.plot(history.history['loss'], label='Training Loss', color='blue', linewidth=2)\n",
        "    ax1.plot(history.history['val_loss'], label='Validation Loss', color='red', linewidth=2)\n",
        "    ax1.set_title('Model Loss', fontsize=14, fontweight='bold')\n",
        "    ax1.set_xlabel('Epoch', fontsize=12)\n",
        "    ax1.set_ylabel('Loss', fontsize=12)\n",
        "    ax1.legend()\n",
        "    ax1.grid(True, alpha=0.3)\n",
        "\n",
        "    # Plot 2: Accuracy and Validation Accuracy\n",
        "    ax2.plot(history.history['accuracy'], label='Training Accuracy', color='blue', linewidth=2)\n",
        "    ax2.plot(history.history['val_accuracy'], label='Validation Accuracy', color='red', linewidth=2)\n",
        "    ax2.set_title('Model Accuracy', fontsize=14, fontweight='bold')\n",
        "    ax2.set_xlabel('Epoch', fontsize=12)\n",
        "    ax2.set_ylabel('Accuracy', fontsize=12)\n",
        "    ax2.legend()\n",
        "    ax2.grid(True, alpha=0.3)\n",
        "\n",
        "    # Adjust layout to prevent overlapping\n",
        "    plt.tight_layout()\n",
        "\n",
        "    # Show the plot\n",
        "    plt.show()\n",
        "\n",
        "    # Print final metrics\n",
        "    final_train_loss = history.history['loss'][-1]\n",
        "    final_val_loss = history.history['val_loss'][-1]\n",
        "    final_train_acc = history.history['accuracy'][-1]\n",
        "    final_val_acc = history.history['val_accuracy'][-1]\n",
        "\n",
        "    print(f\"\\nFinal Training Loss: {final_train_loss:.4f}\")\n",
        "    print(f\"Final Validation Loss: {final_val_loss:.4f}\")\n",
        "    print(f\"Final Training Accuracy: {final_train_acc:.4f}\")\n",
        "    print(f\"Final Validation Accuracy: {final_val_acc:.4f}\")"
      ]
    }
  ]
}